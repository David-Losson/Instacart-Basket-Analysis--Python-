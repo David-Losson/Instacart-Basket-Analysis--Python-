{
 "cells": [
  {
   "cell_type": "markdown",
   "id": "a56606e7",
   "metadata": {},
   "source": [
    "# 01. Importing libraries"
   ]
  },
  {
   "cell_type": "code",
   "execution_count": 1,
   "id": "ac03f84d",
   "metadata": {},
   "outputs": [],
   "source": [
    "# Import libraries\n",
    "import pandas as pd\n",
    "import numpy as np\n",
    "import os"
   ]
  },
  {
   "cell_type": "code",
   "execution_count": 2,
   "id": "55ce386b",
   "metadata": {},
   "outputs": [],
   "source": [
    "x = 2"
   ]
  },
  {
   "cell_type": "code",
   "execution_count": 3,
   "id": "effa5390",
   "metadata": {},
   "outputs": [
    {
     "data": {
      "text/plain": [
       "2"
      ]
     },
     "execution_count": 3,
     "metadata": {},
     "output_type": "execute_result"
    }
   ],
   "source": [
    "x"
   ]
  },
  {
   "cell_type": "code",
   "execution_count": 4,
   "id": "01c535d7",
   "metadata": {},
   "outputs": [
    {
     "name": "stdout",
     "output_type": "stream",
     "text": [
      "2\n"
     ]
    }
   ],
   "source": [
    "print(x)"
   ]
  },
  {
   "cell_type": "code",
   "execution_count": 13,
   "id": "94039cfa",
   "metadata": {},
   "outputs": [
    {
     "data": {
      "text/plain": [
       "6"
      ]
     },
     "execution_count": 13,
     "metadata": {},
     "output_type": "execute_result"
    }
   ],
   "source": [
    "x + 4"
   ]
  },
  {
   "cell_type": "code",
   "execution_count": 5,
   "id": "be5bf2a4",
   "metadata": {},
   "outputs": [
    {
     "data": {
      "text/plain": [
       "int"
      ]
     },
     "execution_count": 5,
     "metadata": {},
     "output_type": "execute_result"
    }
   ],
   "source": [
    "type(x)"
   ]
  },
  {
   "cell_type": "code",
   "execution_count": 6,
   "id": "8e5fb57a",
   "metadata": {},
   "outputs": [],
   "source": [
    "y = 5.678"
   ]
  },
  {
   "cell_type": "code",
   "execution_count": 7,
   "id": "b827d2a6",
   "metadata": {},
   "outputs": [
    {
     "data": {
      "text/plain": [
       "float"
      ]
     },
     "execution_count": 7,
     "metadata": {},
     "output_type": "execute_result"
    }
   ],
   "source": [
    "type(y)"
   ]
  },
  {
   "cell_type": "code",
   "execution_count": 10,
   "id": "aa221439",
   "metadata": {},
   "outputs": [],
   "source": [
    "z= 'Brazil'"
   ]
  },
  {
   "cell_type": "code",
   "execution_count": 11,
   "id": "2fe4aa99",
   "metadata": {},
   "outputs": [
    {
     "data": {
      "text/plain": [
       "str"
      ]
     },
     "execution_count": 11,
     "metadata": {},
     "output_type": "execute_result"
    }
   ],
   "source": [
    "type(z)"
   ]
  },
  {
   "cell_type": "code",
   "execution_count": 14,
   "id": "b605659b",
   "metadata": {},
   "outputs": [
    {
     "data": {
      "text/plain": [
       "7.768"
      ]
     },
     "execution_count": 14,
     "metadata": {},
     "output_type": "execute_result"
    }
   ],
   "source": [
    "x + y"
   ]
  },
  {
   "cell_type": "code",
   "execution_count": 15,
   "id": "16ef539d",
   "metadata": {},
   "outputs": [
    {
     "data": {
      "text/plain": [
       "False"
      ]
     },
     "execution_count": 15,
     "metadata": {},
     "output_type": "execute_result"
    }
   ],
   "source": [
    "x == y"
   ]
  },
  {
   "cell_type": "markdown",
   "id": "9464714f",
   "metadata": {},
   "source": [
    "# 02 Python data types"
   ]
  },
  {
   "cell_type": "code",
   "execution_count": 16,
   "id": "c9b9896c",
   "metadata": {},
   "outputs": [],
   "source": [
    "x = 500\n",
    "y = 500"
   ]
  },
  {
   "cell_type": "code",
   "execution_count": 20,
   "id": "11c41116",
   "metadata": {},
   "outputs": [
    {
     "data": {
      "text/plain": [
       "int"
      ]
     },
     "execution_count": 20,
     "metadata": {},
     "output_type": "execute_result"
    }
   ],
   "source": [
    "type(x)\n",
    "type(y)"
   ]
  },
  {
   "cell_type": "code",
   "execution_count": 17,
   "id": "521b6165",
   "metadata": {},
   "outputs": [
    {
     "data": {
      "text/plain": [
       "1000"
      ]
     },
     "execution_count": 17,
     "metadata": {},
     "output_type": "execute_result"
    }
   ],
   "source": [
    "x + y"
   ]
  },
  {
   "cell_type": "code",
   "execution_count": 18,
   "id": "a8d3c2ac",
   "metadata": {},
   "outputs": [],
   "source": [
    "x = 10000\n",
    "y = 9000"
   ]
  },
  {
   "cell_type": "code",
   "execution_count": 21,
   "id": "adff98f7",
   "metadata": {},
   "outputs": [
    {
     "data": {
      "text/plain": [
       "int"
      ]
     },
     "execution_count": 21,
     "metadata": {},
     "output_type": "execute_result"
    }
   ],
   "source": [
    "type(x)\n",
    "type(y)"
   ]
  },
  {
   "cell_type": "code",
   "execution_count": 19,
   "id": "fc3a4edc",
   "metadata": {},
   "outputs": [
    {
     "data": {
      "text/plain": [
       "1000"
      ]
     },
     "execution_count": 19,
     "metadata": {},
     "output_type": "execute_result"
    }
   ],
   "source": [
    "x - y"
   ]
  },
  {
   "cell_type": "code",
   "execution_count": 22,
   "id": "94a0a9da",
   "metadata": {},
   "outputs": [],
   "source": [
    "x = -3000\n",
    "y = 4000"
   ]
  },
  {
   "cell_type": "code",
   "execution_count": 23,
   "id": "89ace76c",
   "metadata": {},
   "outputs": [
    {
     "data": {
      "text/plain": [
       "int"
      ]
     },
     "execution_count": 23,
     "metadata": {},
     "output_type": "execute_result"
    }
   ],
   "source": [
    "type (x)\n",
    "type (y)"
   ]
  },
  {
   "cell_type": "code",
   "execution_count": 24,
   "id": "a27630fc",
   "metadata": {},
   "outputs": [
    {
     "data": {
      "text/plain": [
       "1000"
      ]
     },
     "execution_count": 24,
     "metadata": {},
     "output_type": "execute_result"
    }
   ],
   "source": [
    "x + y"
   ]
  },
  {
   "cell_type": "code",
   "execution_count": 25,
   "id": "ba07ab35",
   "metadata": {},
   "outputs": [],
   "source": [
    "x = 160.235\n",
    "y = 84.56"
   ]
  },
  {
   "cell_type": "code",
   "execution_count": 26,
   "id": "47a6ae8d",
   "metadata": {},
   "outputs": [
    {
     "data": {
      "text/plain": [
       "float"
      ]
     },
     "execution_count": 26,
     "metadata": {},
     "output_type": "execute_result"
    }
   ],
   "source": [
    "type(x)\n",
    "type(y)"
   ]
  },
  {
   "cell_type": "code",
   "execution_count": 27,
   "id": "523aea12",
   "metadata": {},
   "outputs": [
    {
     "data": {
      "text/plain": [
       "1.894926679280984"
      ]
     },
     "execution_count": 27,
     "metadata": {},
     "output_type": "execute_result"
    }
   ],
   "source": [
    "x / y"
   ]
  },
  {
   "cell_type": "code",
   "execution_count": 37,
   "id": "9899cc01",
   "metadata": {},
   "outputs": [],
   "source": [
    "a = 'High-'\n",
    "b = 'Fructose'"
   ]
  },
  {
   "cell_type": "code",
   "execution_count": 38,
   "id": "cec9e811",
   "metadata": {},
   "outputs": [
    {
     "data": {
      "text/plain": [
       "str"
      ]
     },
     "execution_count": 38,
     "metadata": {},
     "output_type": "execute_result"
    }
   ],
   "source": [
    "type (a)\n",
    "type (b)"
   ]
  },
  {
   "cell_type": "code",
   "execution_count": 39,
   "id": "d6af7508",
   "metadata": {},
   "outputs": [
    {
     "data": {
      "text/plain": [
       "'High-Fructose'"
      ]
     },
     "execution_count": 39,
     "metadata": {},
     "output_type": "execute_result"
    }
   ],
   "source": [
    "a + b"
   ]
  },
  {
   "cell_type": "code",
   "execution_count": 31,
   "id": "f01c09ee",
   "metadata": {},
   "outputs": [],
   "source": [
    "x = 'Call '\n",
    "y = 'me '\n",
    "z = 'Ishmael.'"
   ]
  },
  {
   "cell_type": "code",
   "execution_count": 32,
   "id": "de458124",
   "metadata": {},
   "outputs": [
    {
     "data": {
      "text/plain": [
       "str"
      ]
     },
     "execution_count": 32,
     "metadata": {},
     "output_type": "execute_result"
    }
   ],
   "source": [
    "type(x)\n",
    "type(y)\n",
    "type(z)"
   ]
  },
  {
   "cell_type": "code",
   "execution_count": 33,
   "id": "d6a40fa5",
   "metadata": {},
   "outputs": [
    {
     "data": {
      "text/plain": [
       "'Call me Ishmael.'"
      ]
     },
     "execution_count": 33,
     "metadata": {},
     "output_type": "execute_result"
    }
   ],
   "source": [
    "x + y + z"
   ]
  },
  {
   "cell_type": "code",
   "execution_count": 44,
   "id": "bf7ee300",
   "metadata": {},
   "outputs": [],
   "source": [
    "e = 'Baruch '\n",
    "f = 'ata '\n",
    "g = 'Adonai '\n",
    "h = 'eloheinu '\n",
    "i = 'melech '\n",
    "j = 'ha-'\n",
    "k = 'olam.'"
   ]
  },
  {
   "cell_type": "code",
   "execution_count": 45,
   "id": "452346ab",
   "metadata": {},
   "outputs": [
    {
     "data": {
      "text/plain": [
       "str"
      ]
     },
     "execution_count": 45,
     "metadata": {},
     "output_type": "execute_result"
    }
   ],
   "source": [
    "type(e)\n",
    "type(f)\n",
    "type(g)\n",
    "type(h)\n",
    "type(i)\n",
    "type(j)\n",
    "type(k)"
   ]
  },
  {
   "cell_type": "code",
   "execution_count": 46,
   "id": "91cc3ccb",
   "metadata": {},
   "outputs": [
    {
     "data": {
      "text/plain": [
       "'Baruch ata Adonai eloheinu melech ha-olam.'"
      ]
     },
     "execution_count": 46,
     "metadata": {},
     "output_type": "execute_result"
    }
   ],
   "source": [
    "e + f + g + h + i + j + k"
   ]
  },
  {
   "cell_type": "code",
   "execution_count": null,
   "id": "12f052c6",
   "metadata": {},
   "outputs": [],
   "source": []
  },
  {
   "cell_type": "code",
   "execution_count": null,
   "id": "4215271a",
   "metadata": {},
   "outputs": [],
   "source": []
  }
 ],
 "metadata": {
  "kernelspec": {
   "display_name": "Python 3 (ipykernel)",
   "language": "python",
   "name": "python3"
  },
  "language_info": {
   "codemirror_mode": {
    "name": "ipython",
    "version": 3
   },
   "file_extension": ".py",
   "mimetype": "text/x-python",
   "name": "python",
   "nbconvert_exporter": "python",
   "pygments_lexer": "ipython3",
   "version": "3.9.13"
  }
 },
 "nbformat": 4,
 "nbformat_minor": 5
}
