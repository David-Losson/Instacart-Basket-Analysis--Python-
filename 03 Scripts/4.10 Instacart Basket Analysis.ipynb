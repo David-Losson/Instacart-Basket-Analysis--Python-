{
 "cells": [
  {
   "cell_type": "code",
   "execution_count": null,
   "id": "4c3c6f95",
   "metadata": {},
   "outputs": [],
   "source": []
  },
  {
   "cell_type": "markdown",
   "id": "c86a9126",
   "metadata": {},
   "source": [
    "# Contents:\n",
    "\n",
    "    1.) "
   ]
  },
  {
   "cell_type": "code",
   "execution_count": null,
   "id": "62524dc6",
   "metadata": {},
   "outputs": [],
   "source": []
  },
  {
   "cell_type": "markdown",
   "id": "c2515cd7",
   "metadata": {},
   "source": [
    "# 1.) Importing Libraries & Files"
   ]
  },
  {
   "cell_type": "code",
   "execution_count": 2,
   "id": "cda93ca6",
   "metadata": {},
   "outputs": [],
   "source": [
    "#Import the libraries\n",
    "import pandas as pd\n",
    "import numpy as np\n",
    "import os\n",
    "import matplotlib.pyplot as plt\n",
    "import seaborn as sns\n",
    "import scipy"
   ]
  },
  {
   "cell_type": "code",
   "execution_count": 3,
   "id": "3f8e2c19",
   "metadata": {},
   "outputs": [],
   "source": [
    "#Create Path\n",
    "path = r'C:\\Users\\dmlos\\Instacart Basket Analysis'"
   ]
  },
  {
   "cell_type": "code",
   "execution_count": 4,
   "id": "78ec470c",
   "metadata": {},
   "outputs": [],
   "source": [
    "#Import the Dataframe of merged Customer and Spending Data\n",
    "merged_df = pd.read_pickle(os.path.join(path, '02 Data', 'Prepared Data', 'df_ords_prods_merged_customer_frequency_spending_2.pkl'))"
   ]
  },
  {
   "cell_type": "code",
   "execution_count": 5,
   "id": "faea7b7f",
   "metadata": {},
   "outputs": [],
   "source": [
    "#Import the Departments Dataframe\n",
    "departments_df = pd.read_csv(os.path.join(path, '02 Data', 'Prepared Data', 'Wrangled Data', 'departments_wrangled.csv'), index_col = False)"
   ]
  },
  {
   "cell_type": "markdown",
   "id": "2d1c7de0",
   "metadata": {},
   "source": [
    "# 2.) Address Data Sensitivity Concerns\n"
   ]
  },
  {
   "cell_type": "code",
   "execution_count": 7,
   "id": "385d7040",
   "metadata": {},
   "outputs": [
    {
     "data": {
      "text/html": [
       "<div>\n",
       "<style scoped>\n",
       "    .dataframe tbody tr th:only-of-type {\n",
       "        vertical-align: middle;\n",
       "    }\n",
       "\n",
       "    .dataframe tbody tr th {\n",
       "        vertical-align: top;\n",
       "    }\n",
       "\n",
       "    .dataframe thead th {\n",
       "        text-align: right;\n",
       "    }\n",
       "</style>\n",
       "<table border=\"1\" class=\"dataframe\">\n",
       "  <thead>\n",
       "    <tr style=\"text-align: right;\">\n",
       "      <th></th>\n",
       "      <th>product_id</th>\n",
       "      <th>product_name</th>\n",
       "      <th>aisle_id</th>\n",
       "      <th>department_id</th>\n",
       "      <th>prices</th>\n",
       "      <th>order_id</th>\n",
       "      <th>user_id</th>\n",
       "      <th>order_number</th>\n",
       "      <th>orders_day_of_week</th>\n",
       "      <th>order_hour_of_day</th>\n",
       "      <th>...</th>\n",
       "      <th>frequency_flag</th>\n",
       "      <th>First Name</th>\n",
       "      <th>Surname</th>\n",
       "      <th>Gender</th>\n",
       "      <th>State</th>\n",
       "      <th>Age</th>\n",
       "      <th>Date_Joined</th>\n",
       "      <th>Number_Dependants</th>\n",
       "      <th>Family_Status</th>\n",
       "      <th>Income</th>\n",
       "    </tr>\n",
       "  </thead>\n",
       "  <tbody>\n",
       "    <tr>\n",
       "      <th>0</th>\n",
       "      <td>1</td>\n",
       "      <td>Chocolate Sandwich Cookies</td>\n",
       "      <td>61</td>\n",
       "      <td>19</td>\n",
       "      <td>5.8</td>\n",
       "      <td>3139998</td>\n",
       "      <td>138</td>\n",
       "      <td>28</td>\n",
       "      <td>6</td>\n",
       "      <td>11</td>\n",
       "      <td>...</td>\n",
       "      <td>Frequent customer</td>\n",
       "      <td>Charles</td>\n",
       "      <td>Cox</td>\n",
       "      <td>Male</td>\n",
       "      <td>Minnesota</td>\n",
       "      <td>81</td>\n",
       "      <td>8/1/2019</td>\n",
       "      <td>1</td>\n",
       "      <td>married</td>\n",
       "      <td>49620</td>\n",
       "    </tr>\n",
       "    <tr>\n",
       "      <th>1</th>\n",
       "      <td>1</td>\n",
       "      <td>Chocolate Sandwich Cookies</td>\n",
       "      <td>61</td>\n",
       "      <td>19</td>\n",
       "      <td>5.8</td>\n",
       "      <td>1977647</td>\n",
       "      <td>138</td>\n",
       "      <td>30</td>\n",
       "      <td>6</td>\n",
       "      <td>17</td>\n",
       "      <td>...</td>\n",
       "      <td>Frequent customer</td>\n",
       "      <td>Charles</td>\n",
       "      <td>Cox</td>\n",
       "      <td>Male</td>\n",
       "      <td>Minnesota</td>\n",
       "      <td>81</td>\n",
       "      <td>8/1/2019</td>\n",
       "      <td>1</td>\n",
       "      <td>married</td>\n",
       "      <td>49620</td>\n",
       "    </tr>\n",
       "    <tr>\n",
       "      <th>2</th>\n",
       "      <td>907</td>\n",
       "      <td>Premium Sliced Bacon</td>\n",
       "      <td>106</td>\n",
       "      <td>12</td>\n",
       "      <td>20.0</td>\n",
       "      <td>3160996</td>\n",
       "      <td>138</td>\n",
       "      <td>1</td>\n",
       "      <td>5</td>\n",
       "      <td>13</td>\n",
       "      <td>...</td>\n",
       "      <td>Frequent customer</td>\n",
       "      <td>Charles</td>\n",
       "      <td>Cox</td>\n",
       "      <td>Male</td>\n",
       "      <td>Minnesota</td>\n",
       "      <td>81</td>\n",
       "      <td>8/1/2019</td>\n",
       "      <td>1</td>\n",
       "      <td>married</td>\n",
       "      <td>49620</td>\n",
       "    </tr>\n",
       "    <tr>\n",
       "      <th>3</th>\n",
       "      <td>907</td>\n",
       "      <td>Premium Sliced Bacon</td>\n",
       "      <td>106</td>\n",
       "      <td>12</td>\n",
       "      <td>20.0</td>\n",
       "      <td>2254091</td>\n",
       "      <td>138</td>\n",
       "      <td>10</td>\n",
       "      <td>5</td>\n",
       "      <td>14</td>\n",
       "      <td>...</td>\n",
       "      <td>Frequent customer</td>\n",
       "      <td>Charles</td>\n",
       "      <td>Cox</td>\n",
       "      <td>Male</td>\n",
       "      <td>Minnesota</td>\n",
       "      <td>81</td>\n",
       "      <td>8/1/2019</td>\n",
       "      <td>1</td>\n",
       "      <td>married</td>\n",
       "      <td>49620</td>\n",
       "    </tr>\n",
       "    <tr>\n",
       "      <th>4</th>\n",
       "      <td>1000</td>\n",
       "      <td>Apricots</td>\n",
       "      <td>18</td>\n",
       "      <td>10</td>\n",
       "      <td>12.9</td>\n",
       "      <td>505689</td>\n",
       "      <td>138</td>\n",
       "      <td>9</td>\n",
       "      <td>6</td>\n",
       "      <td>12</td>\n",
       "      <td>...</td>\n",
       "      <td>Frequent customer</td>\n",
       "      <td>Charles</td>\n",
       "      <td>Cox</td>\n",
       "      <td>Male</td>\n",
       "      <td>Minnesota</td>\n",
       "      <td>81</td>\n",
       "      <td>8/1/2019</td>\n",
       "      <td>1</td>\n",
       "      <td>married</td>\n",
       "      <td>49620</td>\n",
       "    </tr>\n",
       "  </tbody>\n",
       "</table>\n",
       "<p>5 rows × 32 columns</p>\n",
       "</div>"
      ],
      "text/plain": [
       "   product_id                product_name  aisle_id  department_id  prices  \\\n",
       "0           1  Chocolate Sandwich Cookies        61             19     5.8   \n",
       "1           1  Chocolate Sandwich Cookies        61             19     5.8   \n",
       "2         907        Premium Sliced Bacon       106             12    20.0   \n",
       "3         907        Premium Sliced Bacon       106             12    20.0   \n",
       "4        1000                    Apricots        18             10    12.9   \n",
       "\n",
       "   order_id  user_id  order_number  orders_day_of_week  order_hour_of_day  \\\n",
       "0   3139998      138            28                   6                 11   \n",
       "1   1977647      138            30                   6                 17   \n",
       "2   3160996      138             1                   5                 13   \n",
       "3   2254091      138            10                   5                 14   \n",
       "4    505689      138             9                   6                 12   \n",
       "\n",
       "   ...     frequency_flag  First Name  Surname Gender      State Age  \\\n",
       "0  ...  Frequent customer     Charles      Cox   Male  Minnesota  81   \n",
       "1  ...  Frequent customer     Charles      Cox   Male  Minnesota  81   \n",
       "2  ...  Frequent customer     Charles      Cox   Male  Minnesota  81   \n",
       "3  ...  Frequent customer     Charles      Cox   Male  Minnesota  81   \n",
       "4  ...  Frequent customer     Charles      Cox   Male  Minnesota  81   \n",
       "\n",
       "  Date_Joined  Number_Dependants Family_Status  Income  \n",
       "0    8/1/2019                  1       married   49620  \n",
       "1    8/1/2019                  1       married   49620  \n",
       "2    8/1/2019                  1       married   49620  \n",
       "3    8/1/2019                  1       married   49620  \n",
       "4    8/1/2019                  1       married   49620  \n",
       "\n",
       "[5 rows x 32 columns]"
      ]
     },
     "execution_count": 7,
     "metadata": {},
     "output_type": "execute_result"
    }
   ],
   "source": [
    "#Look at the columns of the merged_df dataframe\n",
    "merged_df.head()"
   ]
  },
  {
   "cell_type": "code",
   "execution_count": 8,
   "id": "8146b15f",
   "metadata": {},
   "outputs": [
    {
     "name": "stdout",
     "output_type": "stream",
     "text": [
      "<class 'pandas.core.frame.DataFrame'>\n",
      "Int64Index: 32434212 entries, 0 to 32434211\n",
      "Data columns (total 32 columns):\n",
      " #   Column                            Dtype  \n",
      "---  ------                            -----  \n",
      " 0   product_id                        int32  \n",
      " 1   product_name                      object \n",
      " 2   aisle_id                          int64  \n",
      " 3   department_id                     int64  \n",
      " 4   prices                            float64\n",
      " 5   order_id                          int32  \n",
      " 6   user_id                           int64  \n",
      " 7   order_number                      int64  \n",
      " 8   orders_day_of_week                int64  \n",
      " 9   order_hour_of_day                 int64  \n",
      " 10  days_since_prior_order            float64\n",
      " 11  add_to_cart_order                 int32  \n",
      " 12  reordered                         int8   \n",
      " 13  busiest_day                       object \n",
      " 14  busiest_days                      object \n",
      " 15  busiest_hours                     object \n",
      " 16  busiest_periods                   object \n",
      " 17  max_order                         int64  \n",
      " 18  loyalty_flag                      object \n",
      " 19  average_customer_price_per_order  float64\n",
      " 20  spending_flag                     object \n",
      " 21  median_days_since_prior_order     float64\n",
      " 22  frequency_flag                    object \n",
      " 23  First Name                        object \n",
      " 24  Surname                           object \n",
      " 25  Gender                            object \n",
      " 26  State                             object \n",
      " 27  Age                               int64  \n",
      " 28  Date_Joined                       object \n",
      " 29  Number_Dependants                 int64  \n",
      " 30  Family_Status                     object \n",
      " 31  Income                            int64  \n",
      "dtypes: float64(4), int32(3), int64(10), int8(1), object(14)\n",
      "memory usage: 7.4+ GB\n"
     ]
    }
   ],
   "source": [
    "#Look at the data types within the merged_df dataframe\n",
    "merged_df.info()"
   ]
  },
  {
   "cell_type": "code",
   "execution_count": 9,
   "id": "90d57100",
   "metadata": {},
   "outputs": [],
   "source": [
    "#Dropping Personally-Identifying Information\n",
    "merged_df = merged_df.drop(columns = ['First Name', 'Surname'])"
   ]
  },
  {
   "cell_type": "code",
   "execution_count": 10,
   "id": "943c1321",
   "metadata": {},
   "outputs": [
    {
     "data": {
      "text/html": [
       "<div>\n",
       "<style scoped>\n",
       "    .dataframe tbody tr th:only-of-type {\n",
       "        vertical-align: middle;\n",
       "    }\n",
       "\n",
       "    .dataframe tbody tr th {\n",
       "        vertical-align: top;\n",
       "    }\n",
       "\n",
       "    .dataframe thead th {\n",
       "        text-align: right;\n",
       "    }\n",
       "</style>\n",
       "<table border=\"1\" class=\"dataframe\">\n",
       "  <thead>\n",
       "    <tr style=\"text-align: right;\">\n",
       "      <th></th>\n",
       "      <th>product_id</th>\n",
       "      <th>product_name</th>\n",
       "      <th>aisle_id</th>\n",
       "      <th>department_id</th>\n",
       "      <th>prices</th>\n",
       "      <th>order_id</th>\n",
       "      <th>user_id</th>\n",
       "      <th>order_number</th>\n",
       "      <th>orders_day_of_week</th>\n",
       "      <th>order_hour_of_day</th>\n",
       "      <th>...</th>\n",
       "      <th>spending_flag</th>\n",
       "      <th>median_days_since_prior_order</th>\n",
       "      <th>frequency_flag</th>\n",
       "      <th>Gender</th>\n",
       "      <th>State</th>\n",
       "      <th>Age</th>\n",
       "      <th>Date_Joined</th>\n",
       "      <th>Number_Dependants</th>\n",
       "      <th>Family_Status</th>\n",
       "      <th>Income</th>\n",
       "    </tr>\n",
       "  </thead>\n",
       "  <tbody>\n",
       "    <tr>\n",
       "      <th>0</th>\n",
       "      <td>1</td>\n",
       "      <td>Chocolate Sandwich Cookies</td>\n",
       "      <td>61</td>\n",
       "      <td>19</td>\n",
       "      <td>5.8</td>\n",
       "      <td>3139998</td>\n",
       "      <td>138</td>\n",
       "      <td>28</td>\n",
       "      <td>6</td>\n",
       "      <td>11</td>\n",
       "      <td>...</td>\n",
       "      <td>Low spender</td>\n",
       "      <td>8.0</td>\n",
       "      <td>Frequent customer</td>\n",
       "      <td>Male</td>\n",
       "      <td>Minnesota</td>\n",
       "      <td>81</td>\n",
       "      <td>8/1/2019</td>\n",
       "      <td>1</td>\n",
       "      <td>married</td>\n",
       "      <td>49620</td>\n",
       "    </tr>\n",
       "    <tr>\n",
       "      <th>1</th>\n",
       "      <td>1</td>\n",
       "      <td>Chocolate Sandwich Cookies</td>\n",
       "      <td>61</td>\n",
       "      <td>19</td>\n",
       "      <td>5.8</td>\n",
       "      <td>1977647</td>\n",
       "      <td>138</td>\n",
       "      <td>30</td>\n",
       "      <td>6</td>\n",
       "      <td>17</td>\n",
       "      <td>...</td>\n",
       "      <td>Low spender</td>\n",
       "      <td>8.0</td>\n",
       "      <td>Frequent customer</td>\n",
       "      <td>Male</td>\n",
       "      <td>Minnesota</td>\n",
       "      <td>81</td>\n",
       "      <td>8/1/2019</td>\n",
       "      <td>1</td>\n",
       "      <td>married</td>\n",
       "      <td>49620</td>\n",
       "    </tr>\n",
       "    <tr>\n",
       "      <th>2</th>\n",
       "      <td>907</td>\n",
       "      <td>Premium Sliced Bacon</td>\n",
       "      <td>106</td>\n",
       "      <td>12</td>\n",
       "      <td>20.0</td>\n",
       "      <td>3160996</td>\n",
       "      <td>138</td>\n",
       "      <td>1</td>\n",
       "      <td>5</td>\n",
       "      <td>13</td>\n",
       "      <td>...</td>\n",
       "      <td>Low spender</td>\n",
       "      <td>8.0</td>\n",
       "      <td>Frequent customer</td>\n",
       "      <td>Male</td>\n",
       "      <td>Minnesota</td>\n",
       "      <td>81</td>\n",
       "      <td>8/1/2019</td>\n",
       "      <td>1</td>\n",
       "      <td>married</td>\n",
       "      <td>49620</td>\n",
       "    </tr>\n",
       "    <tr>\n",
       "      <th>3</th>\n",
       "      <td>907</td>\n",
       "      <td>Premium Sliced Bacon</td>\n",
       "      <td>106</td>\n",
       "      <td>12</td>\n",
       "      <td>20.0</td>\n",
       "      <td>2254091</td>\n",
       "      <td>138</td>\n",
       "      <td>10</td>\n",
       "      <td>5</td>\n",
       "      <td>14</td>\n",
       "      <td>...</td>\n",
       "      <td>Low spender</td>\n",
       "      <td>8.0</td>\n",
       "      <td>Frequent customer</td>\n",
       "      <td>Male</td>\n",
       "      <td>Minnesota</td>\n",
       "      <td>81</td>\n",
       "      <td>8/1/2019</td>\n",
       "      <td>1</td>\n",
       "      <td>married</td>\n",
       "      <td>49620</td>\n",
       "    </tr>\n",
       "    <tr>\n",
       "      <th>4</th>\n",
       "      <td>1000</td>\n",
       "      <td>Apricots</td>\n",
       "      <td>18</td>\n",
       "      <td>10</td>\n",
       "      <td>12.9</td>\n",
       "      <td>505689</td>\n",
       "      <td>138</td>\n",
       "      <td>9</td>\n",
       "      <td>6</td>\n",
       "      <td>12</td>\n",
       "      <td>...</td>\n",
       "      <td>Low spender</td>\n",
       "      <td>8.0</td>\n",
       "      <td>Frequent customer</td>\n",
       "      <td>Male</td>\n",
       "      <td>Minnesota</td>\n",
       "      <td>81</td>\n",
       "      <td>8/1/2019</td>\n",
       "      <td>1</td>\n",
       "      <td>married</td>\n",
       "      <td>49620</td>\n",
       "    </tr>\n",
       "  </tbody>\n",
       "</table>\n",
       "<p>5 rows × 30 columns</p>\n",
       "</div>"
      ],
      "text/plain": [
       "   product_id                product_name  aisle_id  department_id  prices  \\\n",
       "0           1  Chocolate Sandwich Cookies        61             19     5.8   \n",
       "1           1  Chocolate Sandwich Cookies        61             19     5.8   \n",
       "2         907        Premium Sliced Bacon       106             12    20.0   \n",
       "3         907        Premium Sliced Bacon       106             12    20.0   \n",
       "4        1000                    Apricots        18             10    12.9   \n",
       "\n",
       "   order_id  user_id  order_number  orders_day_of_week  order_hour_of_day  \\\n",
       "0   3139998      138            28                   6                 11   \n",
       "1   1977647      138            30                   6                 17   \n",
       "2   3160996      138             1                   5                 13   \n",
       "3   2254091      138            10                   5                 14   \n",
       "4    505689      138             9                   6                 12   \n",
       "\n",
       "   ...  spending_flag  median_days_since_prior_order     frequency_flag  \\\n",
       "0  ...    Low spender                            8.0  Frequent customer   \n",
       "1  ...    Low spender                            8.0  Frequent customer   \n",
       "2  ...    Low spender                            8.0  Frequent customer   \n",
       "3  ...    Low spender                            8.0  Frequent customer   \n",
       "4  ...    Low spender                            8.0  Frequent customer   \n",
       "\n",
       "  Gender      State Age Date_Joined  Number_Dependants Family_Status  Income  \n",
       "0   Male  Minnesota  81    8/1/2019                  1       married   49620  \n",
       "1   Male  Minnesota  81    8/1/2019                  1       married   49620  \n",
       "2   Male  Minnesota  81    8/1/2019                  1       married   49620  \n",
       "3   Male  Minnesota  81    8/1/2019                  1       married   49620  \n",
       "4   Male  Minnesota  81    8/1/2019                  1       married   49620  \n",
       "\n",
       "[5 rows x 30 columns]"
      ]
     },
     "execution_count": 10,
     "metadata": {},
     "output_type": "execute_result"
    }
   ],
   "source": [
    "#Checking the new dataframe with the removed columns\n",
    "merged_df.head()"
   ]
  },
  {
   "cell_type": "code",
   "execution_count": 12,
   "id": "62f88279",
   "metadata": {},
   "outputs": [],
   "source": [
    "#Change the data types of various different columns to conserve memory usage\n",
    "\n",
    "merged_df['orders_day_of_week']=merged_df['orders_day_of_week'].astype('int8')\n",
    "merged_df['Income']=merged_df['Income'].astype('int32')\n",
    "merged_df['days_since_prior_order']=merged_df['days_since_prior_order'].astype('float16')\n",
    "merged_df['user_id']=merged_df['user_id'].astype('int32')\n",
    "merged_df['Age']=merged_df['Age'].astype('int8')\n",
    "merged_df['average_customer_price_per_order']=merged_df['average_customer_price_per_order'].astype('float16')\n",
    "merged_df['add_to_cart_order']=merged_df['add_to_cart_order'].astype('float16')\n",
    "merged_df['max_order']=merged_df['max_order'].astype('int8')\n",
    "merged_df['department_id']=merged_df['department_id'].astype('int8')\n",
    "merged_df['prices']=merged_df['prices'].astype('float16')\n",
    "merged_df['median_days_since_prior_order']=merged_df['median_days_since_prior_order'].astype('float16')\n",
    "merged_df['product_id']=merged_df['product_id'].astype('float16')\n",
    "merged_df['Number_Dependants']=merged_df['Number_Dependants'].astype('int8')\n",
    "merged_df['max_order']=merged_df['max_order'].astype('int8')\n",
    "merged_df['product_id']=merged_df['product_id'].astype('float16') \n",
    "merged_df['aisle_id']=merged_df['aisle_id'].astype('int8') "
   ]
  },
  {
   "cell_type": "code",
   "execution_count": 24,
   "id": "3b451183",
   "metadata": {},
   "outputs": [
    {
     "name": "stdout",
     "output_type": "stream",
     "text": [
      "<class 'pandas.core.frame.DataFrame'>\n",
      "Int64Index: 32434212 entries, 0 to 32434211\n",
      "Data columns (total 32 columns):\n",
      " #   Column                            Dtype  \n",
      "---  ------                            -----  \n",
      " 0   product_id                        float16\n",
      " 1   product_name                      object \n",
      " 2   aisle_id                          int8   \n",
      " 3   department_id                     int8   \n",
      " 4   prices                            float16\n",
      " 5   order_id                          int32  \n",
      " 6   user_id                           int32  \n",
      " 7   order_number                      int64  \n",
      " 8   orders_day_of_week                int8   \n",
      " 9   order_hour_of_day                 int64  \n",
      " 10  days_since_prior_order            float16\n",
      " 11  add_to_cart_order                 float16\n",
      " 12  reordered                         int8   \n",
      " 13  busiest_day                       object \n",
      " 14  busiest_days                      object \n",
      " 15  busiest_hours                     object \n",
      " 16  busiest_periods                   object \n",
      " 17  max_order                         int8   \n",
      " 18  loyalty_flag                      object \n",
      " 19  average_customer_price_per_order  float16\n",
      " 20  spending_flag                     object \n",
      " 21  median_days_since_prior_order     float16\n",
      " 22  frequency_flag                    object \n",
      " 23  Gender                            object \n",
      " 24  State                             object \n",
      " 25  Age                               int8   \n",
      " 26  Date_Joined                       object \n",
      " 27  Number_Dependants                 int8   \n",
      " 28  Family_Status                     object \n",
      " 29  Income                            int32  \n",
      " 30  region                            object \n",
      " 31  activity_flag                     object \n",
      "dtypes: float16(6), int32(3), int64(2), int8(7), object(14)\n",
      "memory usage: 5.0+ GB\n"
     ]
    }
   ],
   "source": [
    "merged_df.info()"
   ]
  },
  {
   "cell_type": "code",
   "execution_count": null,
   "id": "0a9bb6d7",
   "metadata": {},
   "outputs": [],
   "source": []
  },
  {
   "cell_type": "code",
   "execution_count": null,
   "id": "50d2fe31",
   "metadata": {},
   "outputs": [],
   "source": []
  },
  {
   "cell_type": "markdown",
   "id": "ad230f09",
   "metadata": {},
   "source": [
    "# 3.) Create a Column for Regions Based on the State Column"
   ]
  },
  {
   "cell_type": "code",
   "execution_count": null,
   "id": "2375bc56",
   "metadata": {},
   "outputs": [],
   "source": []
  },
  {
   "cell_type": "code",
   "execution_count": 14,
   "id": "56e76897",
   "metadata": {},
   "outputs": [
    {
     "data": {
      "text/plain": [
       "Pennsylvania            667710\n",
       "California              660447\n",
       "Rhode Island            657655\n",
       "Georgia                 657072\n",
       "New Mexico              655143\n",
       "Arizona                 654545\n",
       "North Carolina          652338\n",
       "Oklahoma                652263\n",
       "Alaska                  649020\n",
       "Minnesota               648408\n",
       "Massachusetts           647000\n",
       "Wyoming                 644929\n",
       "Virginia                642075\n",
       "Missouri                641313\n",
       "Texas                   641058\n",
       "Colorado                639752\n",
       "Maine                   639149\n",
       "North Dakota            638999\n",
       "Alabama                 638617\n",
       "Louisiana               638174\n",
       "Kansas                  637991\n",
       "Delaware                637447\n",
       "South Carolina          637348\n",
       "Oregon                  636949\n",
       "Arkansas                636706\n",
       "Nevada                  636697\n",
       "New York                636697\n",
       "Montana                 635835\n",
       "South Dakota            634340\n",
       "Illinois                633490\n",
       "Hawaii                  633445\n",
       "Washington              633421\n",
       "Mississippi             633103\n",
       "Kentucky                632905\n",
       "Michigan                631622\n",
       "Florida                 629582\n",
       "Ohio                    629001\n",
       "Wisconsin               628552\n",
       "New Jersey              628292\n",
       "Indiana                 627768\n",
       "Maryland                627278\n",
       "Nebraska                626297\n",
       "Iowa                    626029\n",
       "Connecticut             623582\n",
       "Tennessee               618396\n",
       "New Hampshire           616006\n",
       "District of Columbia    614293\n",
       "West Virginia           612955\n",
       "Utah                    612451\n",
       "Vermont                 612256\n",
       "Idaho                   607811\n",
       "Name: State, dtype: int64"
      ]
     },
     "execution_count": 14,
     "metadata": {},
     "output_type": "execute_result"
    }
   ],
   "source": [
    "#Check the current state column\n",
    "merged_df['State'].value_counts(dropna = False)"
   ]
  },
  {
   "cell_type": "code",
   "execution_count": 15,
   "id": "ee7b671e",
   "metadata": {},
   "outputs": [],
   "source": [
    "#Defining the regions\n",
    "\n",
    "region_1_NE = ['Maine', 'New Hampshire', 'Vermont', 'Massachusetts', 'Rhode Island', 'Connecticut', 'New York', 'Pennsylvania', 'New Jersey']\n",
    "region_2_MW = ['Wisconsin', 'Michigan', 'Illinois', 'Indiana', 'Ohio', 'North Dakota', 'South Dakota', 'Nebraska', 'Kansas', 'Minnesota', 'Iowa', 'Missouri']\n",
    "region_3_S = ['Delaware', 'Maryland', 'District of Columbia', 'Virginia', 'West Virginia', 'North Carolina', 'South Carolina', 'Georgia', 'Florida', 'Kentucky', 'Tennessee', 'Mississippi', 'Alabama', 'Oklahoma', 'Texas', 'Arkansas', 'Louisiana']\n",
    "region_4_W = ['Idaho', 'Montana', 'Wyoming', 'Nevada', 'Utah', 'Colorado', 'Arizona', 'New Mexico', 'Alaska', 'Washington', 'Oregon', 'California', 'Hawaii']"
   ]
  },
  {
   "cell_type": "code",
   "execution_count": 16,
   "id": "0e60b2cf",
   "metadata": {},
   "outputs": [],
   "source": [
    "#Assign the new region labels to a new column, \"region\"\n",
    "\n",
    "merged_df.loc[merged_df['State'].isin(region_1_NE), 'region'] = 'Northeast'\n",
    "merged_df.loc[merged_df['State'].isin(region_2_MW), 'region'] = 'Midwest'\n",
    "merged_df.loc[merged_df['State'].isin(region_3_S), 'region'] = 'South'\n",
    "merged_df.loc[merged_df['State'].isin(region_4_W), 'region'] = 'West'"
   ]
  },
  {
   "cell_type": "code",
   "execution_count": 17,
   "id": "38833054",
   "metadata": {},
   "outputs": [
    {
     "data": {
      "text/plain": [
       "South        10801610\n",
       "West          8300445\n",
       "Midwest       7603810\n",
       "Northeast     5728347\n",
       "Name: region, dtype: int64"
      ]
     },
     "execution_count": 17,
     "metadata": {},
     "output_type": "execute_result"
    }
   ],
   "source": [
    "#Check the newly-created region column\n",
    "\n",
    "merged_df['region'].value_counts(dropna = False)"
   ]
  },
  {
   "cell_type": "code",
   "execution_count": 18,
   "id": "ea0eaa56",
   "metadata": {},
   "outputs": [],
   "source": [
    "#Compare the differences in spending between US regions using a Crosstab\n",
    "\n",
    "crosstab_regions = pd.crosstab(merged_df['spending_flag'], merged_df['region'], dropna = False)"
   ]
  },
  {
   "cell_type": "code",
   "execution_count": 19,
   "id": "9bd8b6fd",
   "metadata": {},
   "outputs": [
    {
     "data": {
      "text/html": [
       "<div>\n",
       "<style scoped>\n",
       "    .dataframe tbody tr th:only-of-type {\n",
       "        vertical-align: middle;\n",
       "    }\n",
       "\n",
       "    .dataframe tbody tr th {\n",
       "        vertical-align: top;\n",
       "    }\n",
       "\n",
       "    .dataframe thead th {\n",
       "        text-align: right;\n",
       "    }\n",
       "</style>\n",
       "<table border=\"1\" class=\"dataframe\">\n",
       "  <thead>\n",
       "    <tr style=\"text-align: right;\">\n",
       "      <th>region</th>\n",
       "      <th>Midwest</th>\n",
       "      <th>Northeast</th>\n",
       "      <th>South</th>\n",
       "      <th>West</th>\n",
       "    </tr>\n",
       "    <tr>\n",
       "      <th>spending_flag</th>\n",
       "      <th></th>\n",
       "      <th></th>\n",
       "      <th></th>\n",
       "      <th></th>\n",
       "    </tr>\n",
       "  </thead>\n",
       "  <tbody>\n",
       "    <tr>\n",
       "      <th>High spender</th>\n",
       "      <td>156129</td>\n",
       "      <td>108343</td>\n",
       "      <td>210182</td>\n",
       "      <td>160807</td>\n",
       "    </tr>\n",
       "    <tr>\n",
       "      <th>Low spender</th>\n",
       "      <td>7447681</td>\n",
       "      <td>5620004</td>\n",
       "      <td>10591428</td>\n",
       "      <td>8139638</td>\n",
       "    </tr>\n",
       "  </tbody>\n",
       "</table>\n",
       "</div>"
      ],
      "text/plain": [
       "region         Midwest  Northeast     South     West\n",
       "spending_flag                                       \n",
       "High spender    156129     108343    210182   160807\n",
       "Low spender    7447681    5620004  10591428  8139638"
      ]
     },
     "execution_count": 19,
     "metadata": {},
     "output_type": "execute_result"
    }
   ],
   "source": [
    "#Spending Habits Crosstab by Region of the US\n",
    "crosstab_regions"
   ]
  },
  {
   "cell_type": "code",
   "execution_count": null,
   "id": "2e477b13",
   "metadata": {},
   "outputs": [],
   "source": []
  },
  {
   "cell_type": "markdown",
   "id": "25415947",
   "metadata": {},
   "source": [
    "# 4.) Create an exclusion flag for low-activity customers (customers with less than 5 orders) and exclude them from the data. Make sure you export this sample."
   ]
  },
  {
   "cell_type": "code",
   "execution_count": null,
   "id": "346b6e14",
   "metadata": {},
   "outputs": [],
   "source": []
  },
  {
   "cell_type": "code",
   "execution_count": null,
   "id": "75bd7f2a",
   "metadata": {},
   "outputs": [],
   "source": []
  },
  {
   "cell_type": "code",
   "execution_count": 20,
   "id": "b15e7662",
   "metadata": {},
   "outputs": [],
   "source": [
    "#Define an activity flag based on the number of orders\n",
    "\n",
    "merged_df.loc[merged_df['max_order'] <5, 'activity_flag'] = 'Low activity'\n",
    "merged_df.loc[merged_df['max_order'] >=5, 'activity_flag'] = 'High activity'"
   ]
  },
  {
   "cell_type": "code",
   "execution_count": 21,
   "id": "9bfd0477",
   "metadata": {},
   "outputs": [
    {
     "data": {
      "text/html": [
       "<div>\n",
       "<style scoped>\n",
       "    .dataframe tbody tr th:only-of-type {\n",
       "        vertical-align: middle;\n",
       "    }\n",
       "\n",
       "    .dataframe tbody tr th {\n",
       "        vertical-align: top;\n",
       "    }\n",
       "\n",
       "    .dataframe thead th {\n",
       "        text-align: right;\n",
       "    }\n",
       "</style>\n",
       "<table border=\"1\" class=\"dataframe\">\n",
       "  <thead>\n",
       "    <tr style=\"text-align: right;\">\n",
       "      <th></th>\n",
       "      <th>product_id</th>\n",
       "      <th>product_name</th>\n",
       "      <th>aisle_id</th>\n",
       "      <th>department_id</th>\n",
       "      <th>prices</th>\n",
       "      <th>order_id</th>\n",
       "      <th>user_id</th>\n",
       "      <th>order_number</th>\n",
       "      <th>orders_day_of_week</th>\n",
       "      <th>order_hour_of_day</th>\n",
       "      <th>...</th>\n",
       "      <th>frequency_flag</th>\n",
       "      <th>Gender</th>\n",
       "      <th>State</th>\n",
       "      <th>Age</th>\n",
       "      <th>Date_Joined</th>\n",
       "      <th>Number_Dependants</th>\n",
       "      <th>Family_Status</th>\n",
       "      <th>Income</th>\n",
       "      <th>region</th>\n",
       "      <th>activity_flag</th>\n",
       "    </tr>\n",
       "  </thead>\n",
       "  <tbody>\n",
       "    <tr>\n",
       "      <th>0</th>\n",
       "      <td>1.0</td>\n",
       "      <td>Chocolate Sandwich Cookies</td>\n",
       "      <td>61</td>\n",
       "      <td>19</td>\n",
       "      <td>5.800781</td>\n",
       "      <td>3139998</td>\n",
       "      <td>138</td>\n",
       "      <td>28</td>\n",
       "      <td>6</td>\n",
       "      <td>11</td>\n",
       "      <td>...</td>\n",
       "      <td>Frequent customer</td>\n",
       "      <td>Male</td>\n",
       "      <td>Minnesota</td>\n",
       "      <td>81</td>\n",
       "      <td>8/1/2019</td>\n",
       "      <td>1</td>\n",
       "      <td>married</td>\n",
       "      <td>49620</td>\n",
       "      <td>Midwest</td>\n",
       "      <td>High activity</td>\n",
       "    </tr>\n",
       "    <tr>\n",
       "      <th>1</th>\n",
       "      <td>1.0</td>\n",
       "      <td>Chocolate Sandwich Cookies</td>\n",
       "      <td>61</td>\n",
       "      <td>19</td>\n",
       "      <td>5.800781</td>\n",
       "      <td>1977647</td>\n",
       "      <td>138</td>\n",
       "      <td>30</td>\n",
       "      <td>6</td>\n",
       "      <td>17</td>\n",
       "      <td>...</td>\n",
       "      <td>Frequent customer</td>\n",
       "      <td>Male</td>\n",
       "      <td>Minnesota</td>\n",
       "      <td>81</td>\n",
       "      <td>8/1/2019</td>\n",
       "      <td>1</td>\n",
       "      <td>married</td>\n",
       "      <td>49620</td>\n",
       "      <td>Midwest</td>\n",
       "      <td>High activity</td>\n",
       "    </tr>\n",
       "    <tr>\n",
       "      <th>2</th>\n",
       "      <td>907.0</td>\n",
       "      <td>Premium Sliced Bacon</td>\n",
       "      <td>106</td>\n",
       "      <td>12</td>\n",
       "      <td>20.000000</td>\n",
       "      <td>3160996</td>\n",
       "      <td>138</td>\n",
       "      <td>1</td>\n",
       "      <td>5</td>\n",
       "      <td>13</td>\n",
       "      <td>...</td>\n",
       "      <td>Frequent customer</td>\n",
       "      <td>Male</td>\n",
       "      <td>Minnesota</td>\n",
       "      <td>81</td>\n",
       "      <td>8/1/2019</td>\n",
       "      <td>1</td>\n",
       "      <td>married</td>\n",
       "      <td>49620</td>\n",
       "      <td>Midwest</td>\n",
       "      <td>High activity</td>\n",
       "    </tr>\n",
       "    <tr>\n",
       "      <th>3</th>\n",
       "      <td>907.0</td>\n",
       "      <td>Premium Sliced Bacon</td>\n",
       "      <td>106</td>\n",
       "      <td>12</td>\n",
       "      <td>20.000000</td>\n",
       "      <td>2254091</td>\n",
       "      <td>138</td>\n",
       "      <td>10</td>\n",
       "      <td>5</td>\n",
       "      <td>14</td>\n",
       "      <td>...</td>\n",
       "      <td>Frequent customer</td>\n",
       "      <td>Male</td>\n",
       "      <td>Minnesota</td>\n",
       "      <td>81</td>\n",
       "      <td>8/1/2019</td>\n",
       "      <td>1</td>\n",
       "      <td>married</td>\n",
       "      <td>49620</td>\n",
       "      <td>Midwest</td>\n",
       "      <td>High activity</td>\n",
       "    </tr>\n",
       "    <tr>\n",
       "      <th>4</th>\n",
       "      <td>1000.0</td>\n",
       "      <td>Apricots</td>\n",
       "      <td>18</td>\n",
       "      <td>10</td>\n",
       "      <td>12.898438</td>\n",
       "      <td>505689</td>\n",
       "      <td>138</td>\n",
       "      <td>9</td>\n",
       "      <td>6</td>\n",
       "      <td>12</td>\n",
       "      <td>...</td>\n",
       "      <td>Frequent customer</td>\n",
       "      <td>Male</td>\n",
       "      <td>Minnesota</td>\n",
       "      <td>81</td>\n",
       "      <td>8/1/2019</td>\n",
       "      <td>1</td>\n",
       "      <td>married</td>\n",
       "      <td>49620</td>\n",
       "      <td>Midwest</td>\n",
       "      <td>High activity</td>\n",
       "    </tr>\n",
       "  </tbody>\n",
       "</table>\n",
       "<p>5 rows × 32 columns</p>\n",
       "</div>"
      ],
      "text/plain": [
       "   product_id                product_name  aisle_id  department_id     prices  \\\n",
       "0         1.0  Chocolate Sandwich Cookies        61             19   5.800781   \n",
       "1         1.0  Chocolate Sandwich Cookies        61             19   5.800781   \n",
       "2       907.0        Premium Sliced Bacon       106             12  20.000000   \n",
       "3       907.0        Premium Sliced Bacon       106             12  20.000000   \n",
       "4      1000.0                    Apricots        18             10  12.898438   \n",
       "\n",
       "   order_id  user_id  order_number  orders_day_of_week  order_hour_of_day  \\\n",
       "0   3139998      138            28                   6                 11   \n",
       "1   1977647      138            30                   6                 17   \n",
       "2   3160996      138             1                   5                 13   \n",
       "3   2254091      138            10                   5                 14   \n",
       "4    505689      138             9                   6                 12   \n",
       "\n",
       "   ...     frequency_flag  Gender      State Age Date_Joined  \\\n",
       "0  ...  Frequent customer    Male  Minnesota  81    8/1/2019   \n",
       "1  ...  Frequent customer    Male  Minnesota  81    8/1/2019   \n",
       "2  ...  Frequent customer    Male  Minnesota  81    8/1/2019   \n",
       "3  ...  Frequent customer    Male  Minnesota  81    8/1/2019   \n",
       "4  ...  Frequent customer    Male  Minnesota  81    8/1/2019   \n",
       "\n",
       "  Number_Dependants Family_Status  Income   region  activity_flag  \n",
       "0                 1       married   49620  Midwest  High activity  \n",
       "1                 1       married   49620  Midwest  High activity  \n",
       "2                 1       married   49620  Midwest  High activity  \n",
       "3                 1       married   49620  Midwest  High activity  \n",
       "4                 1       married   49620  Midwest  High activity  \n",
       "\n",
       "[5 rows x 32 columns]"
      ]
     },
     "execution_count": 21,
     "metadata": {},
     "output_type": "execute_result"
    }
   ],
   "source": [
    "#Check the dataframe with the newly-formed activty_flag\n",
    "merged_df.head(5)"
   ]
  },
  {
   "cell_type": "code",
   "execution_count": 22,
   "id": "48f31488",
   "metadata": {},
   "outputs": [
    {
     "data": {
      "text/plain": [
       "High activity    30992664\n",
       "Low activity      1441548\n",
       "Name: activity_flag, dtype: int64"
      ]
     },
     "execution_count": 22,
     "metadata": {},
     "output_type": "execute_result"
    }
   ],
   "source": [
    "#Check the newly-added column\n",
    "\n",
    "merged_df['activity_flag'].value_counts(dropna = False)"
   ]
  },
  {
   "cell_type": "code",
   "execution_count": 23,
   "id": "a1edb5bb",
   "metadata": {},
   "outputs": [
    {
     "data": {
      "text/html": [
       "<div>\n",
       "<style scoped>\n",
       "    .dataframe tbody tr th:only-of-type {\n",
       "        vertical-align: middle;\n",
       "    }\n",
       "\n",
       "    .dataframe tbody tr th {\n",
       "        vertical-align: top;\n",
       "    }\n",
       "\n",
       "    .dataframe thead th {\n",
       "        text-align: right;\n",
       "    }\n",
       "</style>\n",
       "<table border=\"1\" class=\"dataframe\">\n",
       "  <thead>\n",
       "    <tr style=\"text-align: right;\">\n",
       "      <th></th>\n",
       "      <th>product_id</th>\n",
       "      <th>product_name</th>\n",
       "      <th>aisle_id</th>\n",
       "      <th>department_id</th>\n",
       "      <th>prices</th>\n",
       "      <th>order_id</th>\n",
       "      <th>user_id</th>\n",
       "      <th>order_number</th>\n",
       "      <th>orders_day_of_week</th>\n",
       "      <th>order_hour_of_day</th>\n",
       "      <th>...</th>\n",
       "      <th>frequency_flag</th>\n",
       "      <th>Gender</th>\n",
       "      <th>State</th>\n",
       "      <th>Age</th>\n",
       "      <th>Date_Joined</th>\n",
       "      <th>Number_Dependants</th>\n",
       "      <th>Family_Status</th>\n",
       "      <th>Income</th>\n",
       "      <th>region</th>\n",
       "      <th>activity_flag</th>\n",
       "    </tr>\n",
       "  </thead>\n",
       "  <tbody>\n",
       "    <tr>\n",
       "      <th>340</th>\n",
       "      <td>1.0</td>\n",
       "      <td>Chocolate Sandwich Cookies</td>\n",
       "      <td>61</td>\n",
       "      <td>19</td>\n",
       "      <td>5.800781</td>\n",
       "      <td>652770</td>\n",
       "      <td>764</td>\n",
       "      <td>1</td>\n",
       "      <td>3</td>\n",
       "      <td>13</td>\n",
       "      <td>...</td>\n",
       "      <td>Frequent customer</td>\n",
       "      <td>Female</td>\n",
       "      <td>Wisconsin</td>\n",
       "      <td>40</td>\n",
       "      <td>2/9/2020</td>\n",
       "      <td>3</td>\n",
       "      <td>married</td>\n",
       "      <td>31308</td>\n",
       "      <td>Midwest</td>\n",
       "      <td>Low activity</td>\n",
       "    </tr>\n",
       "    <tr>\n",
       "      <th>341</th>\n",
       "      <td>1.0</td>\n",
       "      <td>Chocolate Sandwich Cookies</td>\n",
       "      <td>61</td>\n",
       "      <td>19</td>\n",
       "      <td>5.800781</td>\n",
       "      <td>1813452</td>\n",
       "      <td>764</td>\n",
       "      <td>3</td>\n",
       "      <td>4</td>\n",
       "      <td>17</td>\n",
       "      <td>...</td>\n",
       "      <td>Frequent customer</td>\n",
       "      <td>Female</td>\n",
       "      <td>Wisconsin</td>\n",
       "      <td>40</td>\n",
       "      <td>2/9/2020</td>\n",
       "      <td>3</td>\n",
       "      <td>married</td>\n",
       "      <td>31308</td>\n",
       "      <td>Midwest</td>\n",
       "      <td>Low activity</td>\n",
       "    </tr>\n",
       "    <tr>\n",
       "      <th>342</th>\n",
       "      <td>3260.0</td>\n",
       "      <td>Chips Ahoy!/Nutter Butter/Oreo Cookies</td>\n",
       "      <td>61</td>\n",
       "      <td>19</td>\n",
       "      <td>1.700195</td>\n",
       "      <td>652770</td>\n",
       "      <td>764</td>\n",
       "      <td>1</td>\n",
       "      <td>3</td>\n",
       "      <td>13</td>\n",
       "      <td>...</td>\n",
       "      <td>Frequent customer</td>\n",
       "      <td>Female</td>\n",
       "      <td>Wisconsin</td>\n",
       "      <td>40</td>\n",
       "      <td>2/9/2020</td>\n",
       "      <td>3</td>\n",
       "      <td>married</td>\n",
       "      <td>31308</td>\n",
       "      <td>Midwest</td>\n",
       "      <td>Low activity</td>\n",
       "    </tr>\n",
       "    <tr>\n",
       "      <th>343</th>\n",
       "      <td>3260.0</td>\n",
       "      <td>Chips Ahoy!/Nutter Butter/Oreo Cookies</td>\n",
       "      <td>61</td>\n",
       "      <td>19</td>\n",
       "      <td>1.700195</td>\n",
       "      <td>705212</td>\n",
       "      <td>764</td>\n",
       "      <td>2</td>\n",
       "      <td>2</td>\n",
       "      <td>10</td>\n",
       "      <td>...</td>\n",
       "      <td>Frequent customer</td>\n",
       "      <td>Female</td>\n",
       "      <td>Wisconsin</td>\n",
       "      <td>40</td>\n",
       "      <td>2/9/2020</td>\n",
       "      <td>3</td>\n",
       "      <td>married</td>\n",
       "      <td>31308</td>\n",
       "      <td>Midwest</td>\n",
       "      <td>Low activity</td>\n",
       "    </tr>\n",
       "    <tr>\n",
       "      <th>344</th>\n",
       "      <td>3260.0</td>\n",
       "      <td>Chips Ahoy!/Nutter Butter/Oreo Cookies</td>\n",
       "      <td>61</td>\n",
       "      <td>19</td>\n",
       "      <td>1.700195</td>\n",
       "      <td>1813452</td>\n",
       "      <td>764</td>\n",
       "      <td>3</td>\n",
       "      <td>4</td>\n",
       "      <td>17</td>\n",
       "      <td>...</td>\n",
       "      <td>Frequent customer</td>\n",
       "      <td>Female</td>\n",
       "      <td>Wisconsin</td>\n",
       "      <td>40</td>\n",
       "      <td>2/9/2020</td>\n",
       "      <td>3</td>\n",
       "      <td>married</td>\n",
       "      <td>31308</td>\n",
       "      <td>Midwest</td>\n",
       "      <td>Low activity</td>\n",
       "    </tr>\n",
       "  </tbody>\n",
       "</table>\n",
       "<p>5 rows × 32 columns</p>\n",
       "</div>"
      ],
      "text/plain": [
       "     product_id                            product_name  aisle_id  \\\n",
       "340         1.0              Chocolate Sandwich Cookies        61   \n",
       "341         1.0              Chocolate Sandwich Cookies        61   \n",
       "342      3260.0  Chips Ahoy!/Nutter Butter/Oreo Cookies        61   \n",
       "343      3260.0  Chips Ahoy!/Nutter Butter/Oreo Cookies        61   \n",
       "344      3260.0  Chips Ahoy!/Nutter Butter/Oreo Cookies        61   \n",
       "\n",
       "     department_id    prices  order_id  user_id  order_number  \\\n",
       "340             19  5.800781    652770      764             1   \n",
       "341             19  5.800781   1813452      764             3   \n",
       "342             19  1.700195    652770      764             1   \n",
       "343             19  1.700195    705212      764             2   \n",
       "344             19  1.700195   1813452      764             3   \n",
       "\n",
       "     orders_day_of_week  order_hour_of_day  ...     frequency_flag  Gender  \\\n",
       "340                   3                 13  ...  Frequent customer  Female   \n",
       "341                   4                 17  ...  Frequent customer  Female   \n",
       "342                   3                 13  ...  Frequent customer  Female   \n",
       "343                   2                 10  ...  Frequent customer  Female   \n",
       "344                   4                 17  ...  Frequent customer  Female   \n",
       "\n",
       "         State Age Date_Joined Number_Dependants Family_Status  Income  \\\n",
       "340  Wisconsin  40    2/9/2020                 3       married   31308   \n",
       "341  Wisconsin  40    2/9/2020                 3       married   31308   \n",
       "342  Wisconsin  40    2/9/2020                 3       married   31308   \n",
       "343  Wisconsin  40    2/9/2020                 3       married   31308   \n",
       "344  Wisconsin  40    2/9/2020                 3       married   31308   \n",
       "\n",
       "      region  activity_flag  \n",
       "340  Midwest   Low activity  \n",
       "341  Midwest   Low activity  \n",
       "342  Midwest   Low activity  \n",
       "343  Midwest   Low activity  \n",
       "344  Midwest   Low activity  \n",
       "\n",
       "[5 rows x 32 columns]"
      ]
     },
     "execution_count": 23,
     "metadata": {},
     "output_type": "execute_result"
    }
   ],
   "source": [
    "#Exclude the high-activity flagged customers\n",
    "\n",
    "low_activity_customers = merged_df[merged_df['activity_flag'] == 'Low activity']\n",
    "low_activity_customers.head() "
   ]
  },
  {
   "cell_type": "code",
   "execution_count": 25,
   "id": "e78d86fe",
   "metadata": {},
   "outputs": [],
   "source": [
    "#Export the new, low-activity subset to a .pkl format\n",
    "\n",
    "low_activity_customers.to_pickle(os.path.join(path, '02 Data', 'Prepared Data', 'low_activity_customers.pkl'))"
   ]
  },
  {
   "cell_type": "code",
   "execution_count": 61,
   "id": "d16632bf",
   "metadata": {},
   "outputs": [
    {
     "data": {
      "text/html": [
       "<div>\n",
       "<style scoped>\n",
       "    .dataframe tbody tr th:only-of-type {\n",
       "        vertical-align: middle;\n",
       "    }\n",
       "\n",
       "    .dataframe tbody tr th {\n",
       "        vertical-align: top;\n",
       "    }\n",
       "\n",
       "    .dataframe thead th {\n",
       "        text-align: right;\n",
       "    }\n",
       "</style>\n",
       "<table border=\"1\" class=\"dataframe\">\n",
       "  <thead>\n",
       "    <tr style=\"text-align: right;\">\n",
       "      <th></th>\n",
       "      <th>product_id</th>\n",
       "      <th>product_name</th>\n",
       "      <th>aisle_id</th>\n",
       "      <th>department_id</th>\n",
       "      <th>prices</th>\n",
       "      <th>order_id</th>\n",
       "      <th>user_id</th>\n",
       "      <th>order_number</th>\n",
       "      <th>orders_day_of_week</th>\n",
       "      <th>order_hour_of_day</th>\n",
       "      <th>...</th>\n",
       "      <th>frequency_flag</th>\n",
       "      <th>Gender</th>\n",
       "      <th>State</th>\n",
       "      <th>Age</th>\n",
       "      <th>Date_Joined</th>\n",
       "      <th>Number_Dependants</th>\n",
       "      <th>Family_Status</th>\n",
       "      <th>Income</th>\n",
       "      <th>region</th>\n",
       "      <th>activity_flag</th>\n",
       "    </tr>\n",
       "  </thead>\n",
       "  <tbody>\n",
       "    <tr>\n",
       "      <th>0</th>\n",
       "      <td>1.0</td>\n",
       "      <td>Chocolate Sandwich Cookies</td>\n",
       "      <td>61</td>\n",
       "      <td>19</td>\n",
       "      <td>5.800781</td>\n",
       "      <td>3139998</td>\n",
       "      <td>138</td>\n",
       "      <td>28</td>\n",
       "      <td>6</td>\n",
       "      <td>11</td>\n",
       "      <td>...</td>\n",
       "      <td>Frequent customer</td>\n",
       "      <td>Male</td>\n",
       "      <td>Minnesota</td>\n",
       "      <td>81</td>\n",
       "      <td>8/1/2019</td>\n",
       "      <td>1</td>\n",
       "      <td>married</td>\n",
       "      <td>49620</td>\n",
       "      <td>Midwest</td>\n",
       "      <td>High activity</td>\n",
       "    </tr>\n",
       "    <tr>\n",
       "      <th>1</th>\n",
       "      <td>1.0</td>\n",
       "      <td>Chocolate Sandwich Cookies</td>\n",
       "      <td>61</td>\n",
       "      <td>19</td>\n",
       "      <td>5.800781</td>\n",
       "      <td>1977647</td>\n",
       "      <td>138</td>\n",
       "      <td>30</td>\n",
       "      <td>6</td>\n",
       "      <td>17</td>\n",
       "      <td>...</td>\n",
       "      <td>Frequent customer</td>\n",
       "      <td>Male</td>\n",
       "      <td>Minnesota</td>\n",
       "      <td>81</td>\n",
       "      <td>8/1/2019</td>\n",
       "      <td>1</td>\n",
       "      <td>married</td>\n",
       "      <td>49620</td>\n",
       "      <td>Midwest</td>\n",
       "      <td>High activity</td>\n",
       "    </tr>\n",
       "    <tr>\n",
       "      <th>2</th>\n",
       "      <td>907.0</td>\n",
       "      <td>Premium Sliced Bacon</td>\n",
       "      <td>106</td>\n",
       "      <td>12</td>\n",
       "      <td>20.000000</td>\n",
       "      <td>3160996</td>\n",
       "      <td>138</td>\n",
       "      <td>1</td>\n",
       "      <td>5</td>\n",
       "      <td>13</td>\n",
       "      <td>...</td>\n",
       "      <td>Frequent customer</td>\n",
       "      <td>Male</td>\n",
       "      <td>Minnesota</td>\n",
       "      <td>81</td>\n",
       "      <td>8/1/2019</td>\n",
       "      <td>1</td>\n",
       "      <td>married</td>\n",
       "      <td>49620</td>\n",
       "      <td>Midwest</td>\n",
       "      <td>High activity</td>\n",
       "    </tr>\n",
       "    <tr>\n",
       "      <th>3</th>\n",
       "      <td>907.0</td>\n",
       "      <td>Premium Sliced Bacon</td>\n",
       "      <td>106</td>\n",
       "      <td>12</td>\n",
       "      <td>20.000000</td>\n",
       "      <td>2254091</td>\n",
       "      <td>138</td>\n",
       "      <td>10</td>\n",
       "      <td>5</td>\n",
       "      <td>14</td>\n",
       "      <td>...</td>\n",
       "      <td>Frequent customer</td>\n",
       "      <td>Male</td>\n",
       "      <td>Minnesota</td>\n",
       "      <td>81</td>\n",
       "      <td>8/1/2019</td>\n",
       "      <td>1</td>\n",
       "      <td>married</td>\n",
       "      <td>49620</td>\n",
       "      <td>Midwest</td>\n",
       "      <td>High activity</td>\n",
       "    </tr>\n",
       "    <tr>\n",
       "      <th>4</th>\n",
       "      <td>1000.0</td>\n",
       "      <td>Apricots</td>\n",
       "      <td>18</td>\n",
       "      <td>10</td>\n",
       "      <td>12.898438</td>\n",
       "      <td>505689</td>\n",
       "      <td>138</td>\n",
       "      <td>9</td>\n",
       "      <td>6</td>\n",
       "      <td>12</td>\n",
       "      <td>...</td>\n",
       "      <td>Frequent customer</td>\n",
       "      <td>Male</td>\n",
       "      <td>Minnesota</td>\n",
       "      <td>81</td>\n",
       "      <td>8/1/2019</td>\n",
       "      <td>1</td>\n",
       "      <td>married</td>\n",
       "      <td>49620</td>\n",
       "      <td>Midwest</td>\n",
       "      <td>High activity</td>\n",
       "    </tr>\n",
       "  </tbody>\n",
       "</table>\n",
       "<p>5 rows × 32 columns</p>\n",
       "</div>"
      ],
      "text/plain": [
       "   product_id                product_name  aisle_id  department_id     prices  \\\n",
       "0         1.0  Chocolate Sandwich Cookies        61             19   5.800781   \n",
       "1         1.0  Chocolate Sandwich Cookies        61             19   5.800781   \n",
       "2       907.0        Premium Sliced Bacon       106             12  20.000000   \n",
       "3       907.0        Premium Sliced Bacon       106             12  20.000000   \n",
       "4      1000.0                    Apricots        18             10  12.898438   \n",
       "\n",
       "   order_id  user_id  order_number  orders_day_of_week  order_hour_of_day  \\\n",
       "0   3139998      138            28                   6                 11   \n",
       "1   1977647      138            30                   6                 17   \n",
       "2   3160996      138             1                   5                 13   \n",
       "3   2254091      138            10                   5                 14   \n",
       "4    505689      138             9                   6                 12   \n",
       "\n",
       "   ...     frequency_flag  Gender      State Age Date_Joined  \\\n",
       "0  ...  Frequent customer    Male  Minnesota  81    8/1/2019   \n",
       "1  ...  Frequent customer    Male  Minnesota  81    8/1/2019   \n",
       "2  ...  Frequent customer    Male  Minnesota  81    8/1/2019   \n",
       "3  ...  Frequent customer    Male  Minnesota  81    8/1/2019   \n",
       "4  ...  Frequent customer    Male  Minnesota  81    8/1/2019   \n",
       "\n",
       "  Number_Dependants Family_Status  Income   region  activity_flag  \n",
       "0                 1       married   49620  Midwest  High activity  \n",
       "1                 1       married   49620  Midwest  High activity  \n",
       "2                 1       married   49620  Midwest  High activity  \n",
       "3                 1       married   49620  Midwest  High activity  \n",
       "4                 1       married   49620  Midwest  High activity  \n",
       "\n",
       "[5 rows x 32 columns]"
      ]
     },
     "execution_count": 61,
     "metadata": {},
     "output_type": "execute_result"
    }
   ],
   "source": [
    "#Exclude the low-activity flagged customers\n",
    "\n",
    "high_activity_customers = merged_df[merged_df['activity_flag'] == 'High activity']\n",
    "high_activity_customers.head()"
   ]
  },
  {
   "cell_type": "code",
   "execution_count": 62,
   "id": "f2fb457e",
   "metadata": {},
   "outputs": [],
   "source": [
    "#Export the new, high-activity subset to a .pkl format\n",
    "high_activity_customers.to_pickle(os.path.join(path, '02 Data', 'Prepared Data', 'high_activity_customers.pkl'))"
   ]
  },
  {
   "cell_type": "markdown",
   "id": "64d5585d",
   "metadata": {},
   "source": [
    "# 5.) Create a profiling variable based on age, income, certain goods in the “department_id” column, and number of dependents. You might also use the “orders_day_of_the_week” and “order_hour_of_day” columns if you can think of a way they would impact customer profiles. (Hint: As an example, try thinking of what characteristics would lead you to the profile “Single adult” or “Young parent.”)"
   ]
  },
  {
   "cell_type": "code",
   "execution_count": null,
   "id": "a5822a87",
   "metadata": {},
   "outputs": [],
   "source": []
  },
  {
   "cell_type": "code",
   "execution_count": 83,
   "id": "3aa58a1f",
   "metadata": {},
   "outputs": [],
   "source": [
    "#Begin by profiling high-activity customers\n",
    "\n",
    "top_cstmrs = high_activity_customers"
   ]
  },
  {
   "cell_type": "code",
   "execution_count": 84,
   "id": "c1680490",
   "metadata": {},
   "outputs": [
    {
     "data": {
      "text/plain": [
       "count    3.099266e+07\n",
       "mean     4.946793e+01\n",
       "std      1.848520e+01\n",
       "min      1.800000e+01\n",
       "25%      3.300000e+01\n",
       "50%      4.900000e+01\n",
       "75%      6.500000e+01\n",
       "max      8.100000e+01\n",
       "Name: Age, dtype: float64"
      ]
     },
     "execution_count": 84,
     "metadata": {},
     "output_type": "execute_result"
    }
   ],
   "source": [
    "#Profile the age of high-activity customers using descriptive statistics from the \"age\" column\n",
    "\n",
    "top_cstmrs['Age'].describe()"
   ]
  },
  {
   "cell_type": "markdown",
   "id": "5666e4de",
   "metadata": {},
   "source": [
    "We can see from the spread of ages among high-activity customers that the youngest is 18 years and the oldest is 81 years.\n",
    "\n",
    "Based on the spread of our ages, the age groups we employ will be:\n",
    "\n",
    "    1) Young (18-33)\n",
    "    2) Middle Age (40-64)\n",
    "    3) Seniors (65+)"
   ]
  },
  {
   "cell_type": "code",
   "execution_count": 65,
   "id": "c415991e",
   "metadata": {},
   "outputs": [
    {
     "name": "stderr",
     "output_type": "stream",
     "text": [
      "C:\\Users\\dmlos\\AppData\\Local\\Temp\\ipykernel_6716\\2718474495.py:3: SettingWithCopyWarning: \n",
      "A value is trying to be set on a copy of a slice from a DataFrame.\n",
      "Try using .loc[row_indexer,col_indexer] = value instead\n",
      "\n",
      "See the caveats in the documentation: https://pandas.pydata.org/pandas-docs/stable/user_guide/indexing.html#returning-a-view-versus-a-copy\n",
      "  top_cstmrs.loc[(top_cstmrs['Age'] >= 18) & (top_cstmrs['Age'] < 40), 'age_category'] = 'Youth'\n"
     ]
    },
    {
     "data": {
      "text/plain": [
       "Middle age    12115268\n",
       "Youth         10674650\n",
       "Senior         8202746\n",
       "Name: age_category, dtype: int64"
      ]
     },
     "execution_count": 65,
     "metadata": {},
     "output_type": "execute_result"
    }
   ],
   "source": [
    "#Segment the top customers (top_cstmrs) based on age\n",
    "\n",
    "top_cstmrs.loc[(top_cstmrs['Age'] >= 18) & (top_cstmrs['Age'] < 40), 'age_category'] = 'Youth'\n",
    "top_cstmrs.loc[(top_cstmrs['Age'] >= 40) & (top_cstmrs['Age'] < 65), 'age_category'] = 'Middle age'\n",
    "top_cstmrs.loc[top_cstmrs['Age'] >= 65, 'age_category'] = 'Senior'\n",
    "top_cstmrs['age_category'].value_counts()"
   ]
  },
  {
   "cell_type": "code",
   "execution_count": 66,
   "id": "743f0b34",
   "metadata": {},
   "outputs": [
    {
     "data": {
      "text/plain": [
       "(30992664, 33)"
      ]
     },
     "execution_count": 66,
     "metadata": {},
     "output_type": "execute_result"
    }
   ],
   "source": [
    "#Check the new top_cstmrs dataframe to see the new column\n",
    "\n",
    "top_cstmrs.shape"
   ]
  },
  {
   "cell_type": "code",
   "execution_count": null,
   "id": "8d16f21a",
   "metadata": {},
   "outputs": [],
   "source": []
  },
  {
   "cell_type": "code",
   "execution_count": 67,
   "id": "1b418995",
   "metadata": {},
   "outputs": [
    {
     "data": {
      "text/plain": [
       "count    3.099266e+07\n",
       "mean     1.501798e+00\n",
       "std      1.118902e+00\n",
       "min      0.000000e+00\n",
       "25%      1.000000e+00\n",
       "50%      2.000000e+00\n",
       "75%      3.000000e+00\n",
       "max      3.000000e+00\n",
       "Name: Number_Dependants, dtype: float64"
      ]
     },
     "execution_count": 67,
     "metadata": {},
     "output_type": "execute_result"
    }
   ],
   "source": [
    "#Segment the top customers (top_cstmrs) based on number of dependents\n",
    "\n",
    "top_cstmrs['Number_Dependants'].describe()"
   ]
  },
  {
   "cell_type": "markdown",
   "id": "f4b6c7e2",
   "metadata": {},
   "source": [
    "Family Size groups based on the results from above.\n",
    "       \n",
    "        a) Small Family = 0 Dependents\n",
    "        \n",
    "        b) Mid-Size Family = 1-2 Dependents\n",
    "        \n",
    "        c) Large Family > 2 Dependents"
   ]
  },
  {
   "cell_type": "code",
   "execution_count": 68,
   "id": "83555b0e",
   "metadata": {},
   "outputs": [
    {
     "name": "stderr",
     "output_type": "stream",
     "text": [
      "C:\\Users\\dmlos\\AppData\\Local\\Temp\\ipykernel_6716\\3872752672.py:3: SettingWithCopyWarning: \n",
      "A value is trying to be set on a copy of a slice from a DataFrame.\n",
      "Try using .loc[row_indexer,col_indexer] = value instead\n",
      "\n",
      "See the caveats in the documentation: https://pandas.pydata.org/pandas-docs/stable/user_guide/indexing.html#returning-a-view-versus-a-copy\n",
      "  top_cstmrs.loc[top_cstmrs['Number_Dependants'] == 0, 'family_size'] = 'Small'\n"
     ]
    }
   ],
   "source": [
    "#Creating family_size column\n",
    "\n",
    "top_cstmrs.loc[top_cstmrs['Number_Dependants'] == 0, 'family_size'] = 'Small'\n",
    "top_cstmrs.loc[(top_cstmrs['Number_Dependants'] == 1) & (top_cstmrs['Number_Dependants'] == 2), 'family_size'] = 'Mid Size'\n",
    "top_cstmrs.loc[top_cstmrs['Number_Dependants'] > 2, 'family_size'] = 'Large'"
   ]
  },
  {
   "cell_type": "code",
   "execution_count": 69,
   "id": "bfe4805c",
   "metadata": {},
   "outputs": [
    {
     "data": {
      "text/plain": [
       "NaN      15466180\n",
       "Large     7779452\n",
       "Small     7747032\n",
       "Name: family_size, dtype: int64"
      ]
     },
     "execution_count": 69,
     "metadata": {},
     "output_type": "execute_result"
    }
   ],
   "source": [
    "#Checking the new column\n",
    "top_cstmrs['family_size'].value_counts(dropna = False)"
   ]
  },
  {
   "cell_type": "code",
   "execution_count": 136,
   "id": "9d5358c7",
   "metadata": {},
   "outputs": [],
   "source": [
    "#Use a crosstab to explore the relationship between marital status and number of dependents among your top customers\n",
    "\n",
    "family_crosstab= pd.crosstab(top_cstmrs['Family_Status'], top_cstmrs['Number_Dependants'], dropna = False)"
   ]
  },
  {
   "cell_type": "code",
   "execution_count": 137,
   "id": "1187d1c0",
   "metadata": {},
   "outputs": [
    {
     "data": {
      "text/html": [
       "<div>\n",
       "<style scoped>\n",
       "    .dataframe tbody tr th:only-of-type {\n",
       "        vertical-align: middle;\n",
       "    }\n",
       "\n",
       "    .dataframe tbody tr th {\n",
       "        vertical-align: top;\n",
       "    }\n",
       "\n",
       "    .dataframe thead th {\n",
       "        text-align: right;\n",
       "    }\n",
       "</style>\n",
       "<table border=\"1\" class=\"dataframe\">\n",
       "  <thead>\n",
       "    <tr style=\"text-align: right;\">\n",
       "      <th>Number_Dependants</th>\n",
       "      <th>0</th>\n",
       "      <th>1</th>\n",
       "      <th>2</th>\n",
       "      <th>3</th>\n",
       "    </tr>\n",
       "    <tr>\n",
       "      <th>Family_Status</th>\n",
       "      <th></th>\n",
       "      <th></th>\n",
       "      <th></th>\n",
       "      <th></th>\n",
       "    </tr>\n",
       "  </thead>\n",
       "  <tbody>\n",
       "    <tr>\n",
       "      <th>divorced/widowed</th>\n",
       "      <td>2647761</td>\n",
       "      <td>0</td>\n",
       "      <td>0</td>\n",
       "      <td>0</td>\n",
       "    </tr>\n",
       "    <tr>\n",
       "      <th>living with parents and siblings</th>\n",
       "      <td>0</td>\n",
       "      <td>508439</td>\n",
       "      <td>485157</td>\n",
       "      <td>489015</td>\n",
       "    </tr>\n",
       "    <tr>\n",
       "      <th>married</th>\n",
       "      <td>0</td>\n",
       "      <td>7217542</td>\n",
       "      <td>7255042</td>\n",
       "      <td>7290437</td>\n",
       "    </tr>\n",
       "    <tr>\n",
       "      <th>single</th>\n",
       "      <td>5099271</td>\n",
       "      <td>0</td>\n",
       "      <td>0</td>\n",
       "      <td>0</td>\n",
       "    </tr>\n",
       "  </tbody>\n",
       "</table>\n",
       "</div>"
      ],
      "text/plain": [
       "Number_Dependants                       0        1        2        3\n",
       "Family_Status                                                       \n",
       "divorced/widowed                  2647761        0        0        0\n",
       "living with parents and siblings        0   508439   485157   489015\n",
       "married                                 0  7217542  7255042  7290437\n",
       "single                            5099271        0        0        0"
      ]
     },
     "execution_count": 137,
     "metadata": {},
     "output_type": "execute_result"
    }
   ],
   "source": [
    "family_crosstab"
   ]
  },
  {
   "cell_type": "code",
   "execution_count": 138,
   "id": "92d6fc6c",
   "metadata": {},
   "outputs": [],
   "source": [
    "#Organize the number of dependents-marital status information into respective categories\n",
    "\n",
    "top_cstmrs.loc[(top_cstmrs['Family_Status'] == 'married') & (top_cstmrs['Number_Dependants'] == 1), 'household'] = 'Couple without children'\n",
    "top_cstmrs.loc[(top_cstmrs['Family_Status'] == 'married') & (top_cstmrs['Number_Dependants'] >= 2), 'household'] = 'Couple with children'\n",
    "top_cstmrs.loc[(top_cstmrs['Family_Status'] == 'divorced/widowed') | (top_cstmrs['Family_Status'] == 'single') , 'household'] = 'Single person'\n",
    "top_cstmrs.loc[(top_cstmrs['Family_Status'] == 'divorced/widowed') & (top_cstmrs['Number_Dependants'] > 0) , 'household'] = 'Single parent'\n",
    "top_cstmrs.loc[top_cstmrs['Family_Status'] == 'living with parents and siblings', 'household'] = 'Other Arrangement'"
   ]
  },
  {
   "cell_type": "code",
   "execution_count": 139,
   "id": "0679f17b",
   "metadata": {},
   "outputs": [
    {
     "data": {
      "text/plain": [
       "Couple with children       14545479\n",
       "Single person               7747032\n",
       "Couple without children     7217542\n",
       "Other Arrangement           1482611\n",
       "Name: household, dtype: int64"
      ]
     },
     "execution_count": 139,
     "metadata": {},
     "output_type": "execute_result"
    }
   ],
   "source": [
    "#Checking the new columns\n",
    "\n",
    "top_cstmrs['household'].value_counts(dropna = False)"
   ]
  },
  {
   "cell_type": "code",
   "execution_count": null,
   "id": "5a6d6b20",
   "metadata": {},
   "outputs": [],
   "source": []
  },
  {
   "cell_type": "code",
   "execution_count": 140,
   "id": "c534f174",
   "metadata": {},
   "outputs": [
    {
     "data": {
      "text/plain": [
       "count    3.099266e+07\n",
       "mean     9.967322e+04\n",
       "std      4.313928e+04\n",
       "min      2.590300e+04\n",
       "25%      6.728900e+04\n",
       "50%      9.676500e+04\n",
       "75%      1.281010e+05\n",
       "max      5.939010e+05\n",
       "Name: Income, dtype: float64"
      ]
     },
     "execution_count": 140,
     "metadata": {},
     "output_type": "execute_result"
    }
   ],
   "source": [
    "#Segment the top customers(top_cstmrs) based on income\n",
    "\n",
    "top_cstmrs['Income'].describe()"
   ]
  },
  {
   "cell_type": "code",
   "execution_count": 141,
   "id": "879524b0",
   "metadata": {},
   "outputs": [],
   "source": [
    "#Creating an income_category column\n",
    "\n",
    "top_cstmrs.loc[top_cstmrs['Income']< 67289 , 'income_category'] = 'Low'\n",
    "top_cstmrs.loc[(top_cstmrs['Income']>= 67289) & (top_cstmrs['Income']< 96765), 'income_category'] = 'Middle'\n",
    "top_cstmrs.loc[(top_cstmrs['Income']>= 96765) & (top_cstmrs['Income']< 128100), 'income_category'] = 'Upper mid'\n",
    "top_cstmrs.loc[top_cstmrs['Income']>= 128100, 'income_category'] = 'High'"
   ]
  },
  {
   "cell_type": "code",
   "execution_count": 142,
   "id": "c2ec04e4",
   "metadata": {},
   "outputs": [
    {
     "data": {
      "text/plain": [
       "Middle       7748589\n",
       "High         7748534\n",
       "Upper mid    7748085\n",
       "Low          7747456\n",
       "Name: income_category, dtype: int64"
      ]
     },
     "execution_count": 142,
     "metadata": {},
     "output_type": "execute_result"
    }
   ],
   "source": [
    "#Checking the new column\n",
    "top_cstmrs['income_category'].value_counts(dropna = False)"
   ]
  },
  {
   "cell_type": "code",
   "execution_count": null,
   "id": "0fbfe507",
   "metadata": {},
   "outputs": [],
   "source": []
  },
  {
   "cell_type": "code",
   "execution_count": 143,
   "id": "93841318",
   "metadata": {},
   "outputs": [
    {
     "data": {
      "text/html": [
       "<div>\n",
       "<style scoped>\n",
       "    .dataframe tbody tr th:only-of-type {\n",
       "        vertical-align: middle;\n",
       "    }\n",
       "\n",
       "    .dataframe tbody tr th {\n",
       "        vertical-align: top;\n",
       "    }\n",
       "\n",
       "    .dataframe thead th {\n",
       "        text-align: right;\n",
       "    }\n",
       "</style>\n",
       "<table border=\"1\" class=\"dataframe\">\n",
       "  <thead>\n",
       "    <tr style=\"text-align: right;\">\n",
       "      <th></th>\n",
       "      <th>department_id</th>\n",
       "      <th>department</th>\n",
       "    </tr>\n",
       "  </thead>\n",
       "  <tbody>\n",
       "    <tr>\n",
       "      <th>0</th>\n",
       "      <td>1</td>\n",
       "      <td>frozen</td>\n",
       "    </tr>\n",
       "    <tr>\n",
       "      <th>1</th>\n",
       "      <td>2</td>\n",
       "      <td>other</td>\n",
       "    </tr>\n",
       "    <tr>\n",
       "      <th>2</th>\n",
       "      <td>3</td>\n",
       "      <td>bakery</td>\n",
       "    </tr>\n",
       "    <tr>\n",
       "      <th>3</th>\n",
       "      <td>4</td>\n",
       "      <td>produce</td>\n",
       "    </tr>\n",
       "    <tr>\n",
       "      <th>4</th>\n",
       "      <td>5</td>\n",
       "      <td>alcohol</td>\n",
       "    </tr>\n",
       "    <tr>\n",
       "      <th>5</th>\n",
       "      <td>6</td>\n",
       "      <td>international</td>\n",
       "    </tr>\n",
       "    <tr>\n",
       "      <th>6</th>\n",
       "      <td>7</td>\n",
       "      <td>beverages</td>\n",
       "    </tr>\n",
       "    <tr>\n",
       "      <th>7</th>\n",
       "      <td>8</td>\n",
       "      <td>pets</td>\n",
       "    </tr>\n",
       "    <tr>\n",
       "      <th>8</th>\n",
       "      <td>9</td>\n",
       "      <td>dry goods pasta</td>\n",
       "    </tr>\n",
       "    <tr>\n",
       "      <th>9</th>\n",
       "      <td>10</td>\n",
       "      <td>bulk</td>\n",
       "    </tr>\n",
       "    <tr>\n",
       "      <th>10</th>\n",
       "      <td>11</td>\n",
       "      <td>personal care</td>\n",
       "    </tr>\n",
       "    <tr>\n",
       "      <th>11</th>\n",
       "      <td>12</td>\n",
       "      <td>meat seafood</td>\n",
       "    </tr>\n",
       "    <tr>\n",
       "      <th>12</th>\n",
       "      <td>13</td>\n",
       "      <td>pantry</td>\n",
       "    </tr>\n",
       "    <tr>\n",
       "      <th>13</th>\n",
       "      <td>14</td>\n",
       "      <td>breakfast</td>\n",
       "    </tr>\n",
       "    <tr>\n",
       "      <th>14</th>\n",
       "      <td>15</td>\n",
       "      <td>canned goods</td>\n",
       "    </tr>\n",
       "    <tr>\n",
       "      <th>15</th>\n",
       "      <td>16</td>\n",
       "      <td>dairy eggs</td>\n",
       "    </tr>\n",
       "    <tr>\n",
       "      <th>16</th>\n",
       "      <td>17</td>\n",
       "      <td>household</td>\n",
       "    </tr>\n",
       "    <tr>\n",
       "      <th>17</th>\n",
       "      <td>18</td>\n",
       "      <td>babies</td>\n",
       "    </tr>\n",
       "    <tr>\n",
       "      <th>18</th>\n",
       "      <td>19</td>\n",
       "      <td>snacks</td>\n",
       "    </tr>\n",
       "    <tr>\n",
       "      <th>19</th>\n",
       "      <td>20</td>\n",
       "      <td>deli</td>\n",
       "    </tr>\n",
       "    <tr>\n",
       "      <th>20</th>\n",
       "      <td>21</td>\n",
       "      <td>missing</td>\n",
       "    </tr>\n",
       "  </tbody>\n",
       "</table>\n",
       "</div>"
      ],
      "text/plain": [
       "    department_id       department\n",
       "0               1           frozen\n",
       "1               2            other\n",
       "2               3           bakery\n",
       "3               4          produce\n",
       "4               5          alcohol\n",
       "5               6    international\n",
       "6               7        beverages\n",
       "7               8             pets\n",
       "8               9  dry goods pasta\n",
       "9              10             bulk\n",
       "10             11    personal care\n",
       "11             12     meat seafood\n",
       "12             13           pantry\n",
       "13             14        breakfast\n",
       "14             15     canned goods\n",
       "15             16       dairy eggs\n",
       "16             17        household\n",
       "17             18           babies\n",
       "18             19           snacks\n",
       "19             20             deli\n",
       "20             21          missing"
      ]
     },
     "execution_count": 143,
     "metadata": {},
     "output_type": "execute_result"
    }
   ],
   "source": [
    "#Segment by department\n",
    "\n",
    "departments_df"
   ]
  },
  {
   "cell_type": "code",
   "execution_count": 144,
   "id": "3dff4d8b",
   "metadata": {},
   "outputs": [],
   "source": [
    "#Renaming index column to a more logical name\n",
    "\n",
    "departments_df.rename(columns= {'Unnamed: 0': 'department_id'}, inplace = True)"
   ]
  },
  {
   "cell_type": "code",
   "execution_count": 145,
   "id": "4aa3f3ba",
   "metadata": {},
   "outputs": [],
   "source": [
    "#Use only the department_id and department columns to create a data dictionary\n",
    "\n",
    "departments_data_dict=dict(zip(departments_df[\"department_id\"], departments_df[\"department\"]))"
   ]
  },
  {
   "cell_type": "code",
   "execution_count": 79,
   "id": "36a4a710",
   "metadata": {},
   "outputs": [
    {
     "data": {
      "text/plain": [
       "{1: 'frozen',\n",
       " 2: 'other',\n",
       " 3: 'bakery',\n",
       " 4: 'produce',\n",
       " 5: 'alcohol',\n",
       " 6: 'international',\n",
       " 7: 'beverages',\n",
       " 8: 'pets',\n",
       " 9: 'dry goods pasta',\n",
       " 10: 'bulk',\n",
       " 11: 'personal care',\n",
       " 12: 'meat seafood',\n",
       " 13: 'pantry',\n",
       " 14: 'breakfast',\n",
       " 15: 'canned goods',\n",
       " 16: 'dairy eggs',\n",
       " 17: 'household',\n",
       " 18: 'babies',\n",
       " 19: 'snacks',\n",
       " 20: 'deli',\n",
       " 21: 'missing'}"
      ]
     },
     "execution_count": 79,
     "metadata": {},
     "output_type": "execute_result"
    }
   ],
   "source": [
    "departments_data_dict"
   ]
  },
  {
   "cell_type": "code",
   "execution_count": 80,
   "id": "49475bb4",
   "metadata": {},
   "outputs": [
    {
     "name": "stderr",
     "output_type": "stream",
     "text": [
      "C:\\Users\\dmlos\\AppData\\Local\\Temp\\ipykernel_6716\\1686762919.py:3: SettingWithCopyWarning: \n",
      "A value is trying to be set on a copy of a slice from a DataFrame.\n",
      "Try using .loc[row_indexer,col_indexer] = value instead\n",
      "\n",
      "See the caveats in the documentation: https://pandas.pydata.org/pandas-docs/stable/user_guide/indexing.html#returning-a-view-versus-a-copy\n",
      "  top_cstmrs['department'] = top_cstmrs['department_id'].map(departments_data_dict)\n"
     ]
    }
   ],
   "source": [
    "#Create a new column in top_cstmrs called \"department\" that matches the department_id of the customers to the department names using the map function.\n",
    "\n",
    "top_cstmrs['department'] = top_cstmrs['department_id'].map(departments_data_dict)"
   ]
  },
  {
   "cell_type": "code",
   "execution_count": 81,
   "id": "ce1d5d96",
   "metadata": {},
   "outputs": [
    {
     "data": {
      "text/plain": [
       "(30992664, 37)"
      ]
     },
     "execution_count": 81,
     "metadata": {},
     "output_type": "execute_result"
    }
   ],
   "source": [
    "#Check the new column in the dataframe\n",
    "\n",
    "top_cstmrs.shape"
   ]
  },
  {
   "cell_type": "code",
   "execution_count": 82,
   "id": "d1bae8a8",
   "metadata": {},
   "outputs": [
    {
     "data": {
      "text/plain": [
       "produce            9079276\n",
       "dairy eggs         5191828\n",
       "snacks             2766406\n",
       "beverages          2571934\n",
       "frozen             2123342\n",
       "pantry             1782903\n",
       "bakery             1125026\n",
       "canned goods       1012074\n",
       "deli               1003834\n",
       "dry goods pasta     822136\n",
       "household           699858\n",
       "breakfast           678095\n",
       "meat seafood        674785\n",
       "personal care       424415\n",
       "babies              410392\n",
       "international       255991\n",
       "alcohol             144674\n",
       "pets                 93065\n",
       "missing              64768\n",
       "other                34411\n",
       "bulk                 33451\n",
       "Name: department, dtype: int64"
      ]
     },
     "execution_count": 82,
     "metadata": {},
     "output_type": "execute_result"
    }
   ],
   "source": [
    "#Distribution of the the department values within the top_cstmrs dataframe\n",
    "\n",
    "top_cstmrs['department'].value_counts(dropna = False)"
   ]
  },
  {
   "cell_type": "code",
   "execution_count": null,
   "id": "ebf791e5",
   "metadata": {},
   "outputs": [],
   "source": []
  },
  {
   "cell_type": "code",
   "execution_count": 85,
   "id": "993b15ee",
   "metadata": {},
   "outputs": [
    {
     "name": "stderr",
     "output_type": "stream",
     "text": [
      "C:\\Users\\dmlos\\AppData\\Local\\Temp\\ipykernel_6716\\2038883522.py:3: SettingWithCopyWarning: \n",
      "A value is trying to be set on a copy of a slice from a DataFrame.\n",
      "Try using .loc[row_indexer,col_indexer] = value instead\n",
      "\n",
      "See the caveats in the documentation: https://pandas.pydata.org/pandas-docs/stable/user_guide/indexing.html#returning-a-view-versus-a-copy\n",
      "  top_cstmrs.loc[top_cstmrs['department'] !='international', 'foreign_born_shopper'] = 'No'\n"
     ]
    }
   ],
   "source": [
    "#Creating a foreign_born_shopper column\n",
    "\n",
    "top_cstmrs.loc[top_cstmrs['department'] !='international', 'foreign_born_shopper'] = 'No'\n",
    "top_cstmrs.loc[top_cstmrs['department'] =='international', 'foreign_born_shopper'] = 'Yes'"
   ]
  },
  {
   "cell_type": "code",
   "execution_count": 86,
   "id": "a3b3758d",
   "metadata": {},
   "outputs": [
    {
     "data": {
      "text/plain": [
       "No     30736673\n",
       "Yes      255991\n",
       "Name: foreign_born_shopper, dtype: int64"
      ]
     },
     "execution_count": 86,
     "metadata": {},
     "output_type": "execute_result"
    }
   ],
   "source": [
    "#Check the breakdown of foreign-born and native-born shoppers\n",
    "top_cstmrs['foreign_born_shopper'].value_counts(dropna = False)"
   ]
  },
  {
   "cell_type": "code",
   "execution_count": 87,
   "id": "d31efed3",
   "metadata": {},
   "outputs": [
    {
     "data": {
      "text/plain": [
       "(30992664, 38)"
      ]
     },
     "execution_count": 87,
     "metadata": {},
     "output_type": "execute_result"
    }
   ],
   "source": [
    "#Confirm the addition of the new column in the dataframe\n",
    "\n",
    "top_cstmrs.shape"
   ]
  },
  {
   "cell_type": "code",
   "execution_count": null,
   "id": "50ab71e4",
   "metadata": {},
   "outputs": [],
   "source": []
  },
  {
   "cell_type": "code",
   "execution_count": 88,
   "id": "d51dddf1",
   "metadata": {},
   "outputs": [
    {
     "name": "stderr",
     "output_type": "stream",
     "text": [
      "C:\\Users\\dmlos\\AppData\\Local\\Temp\\ipykernel_6716\\2134119639.py:3: SettingWithCopyWarning: \n",
      "A value is trying to be set on a copy of a slice from a DataFrame.\n",
      "Try using .loc[row_indexer,col_indexer] = value instead\n",
      "\n",
      "See the caveats in the documentation: https://pandas.pydata.org/pandas-docs/stable/user_guide/indexing.html#returning-a-view-versus-a-copy\n",
      "  top_cstmrs.loc[top_cstmrs['department'] !='babies', 'family_with_baby'] = 'No'\n"
     ]
    }
   ],
   "source": [
    "#Creating a families with babies column\n",
    "\n",
    "top_cstmrs.loc[top_cstmrs['department'] !='babies', 'family_with_baby'] = 'No'\n",
    "top_cstmrs.loc[top_cstmrs['department'] =='babies', 'family_with_baby'] = 'Yes'"
   ]
  },
  {
   "cell_type": "code",
   "execution_count": 89,
   "id": "03f7b53a",
   "metadata": {},
   "outputs": [
    {
     "data": {
      "text/plain": [
       "No     30582272\n",
       "Yes      410392\n",
       "Name: family_with_baby, dtype: int64"
      ]
     },
     "execution_count": 89,
     "metadata": {},
     "output_type": "execute_result"
    }
   ],
   "source": [
    "#Check the breakdown of foreign-born and native-born shoppers\n",
    "top_cstmrs['family_with_baby'].value_counts(dropna = False)"
   ]
  },
  {
   "cell_type": "code",
   "execution_count": 90,
   "id": "86580936",
   "metadata": {},
   "outputs": [
    {
     "data": {
      "text/plain": [
       "(30992664, 39)"
      ]
     },
     "execution_count": 90,
     "metadata": {},
     "output_type": "execute_result"
    }
   ],
   "source": [
    "#Confirm the addition of the new column in the dataframe\n",
    "\n",
    "top_cstmrs.shape"
   ]
  },
  {
   "cell_type": "code",
   "execution_count": null,
   "id": "69653421",
   "metadata": {},
   "outputs": [],
   "source": []
  },
  {
   "cell_type": "code",
   "execution_count": 92,
   "id": "4dcea61d",
   "metadata": {},
   "outputs": [
    {
     "name": "stderr",
     "output_type": "stream",
     "text": [
      "C:\\Users\\dmlos\\AppData\\Local\\Temp\\ipykernel_6716\\2414007233.py:3: SettingWithCopyWarning: \n",
      "A value is trying to be set on a copy of a slice from a DataFrame.\n",
      "Try using .loc[row_indexer,col_indexer] = value instead\n",
      "\n",
      "See the caveats in the documentation: https://pandas.pydata.org/pandas-docs/stable/user_guide/indexing.html#returning-a-view-versus-a-copy\n",
      "  top_cstmrs.loc[top_cstmrs['department'] !='pets', 'family_with_pet'] = 'No'\n"
     ]
    }
   ],
   "source": [
    "#Creating a families with pets column\n",
    "\n",
    "top_cstmrs.loc[top_cstmrs['department'] !='pets', 'family_with_pet'] = 'No'\n",
    "top_cstmrs.loc[top_cstmrs['department'] =='pets', 'family_with_pet'] = 'Yes'"
   ]
  },
  {
   "cell_type": "code",
   "execution_count": 93,
   "id": "383086f4",
   "metadata": {},
   "outputs": [
    {
     "data": {
      "text/plain": [
       "No     30899599\n",
       "Yes       93065\n",
       "Name: family_with_pet, dtype: int64"
      ]
     },
     "execution_count": 93,
     "metadata": {},
     "output_type": "execute_result"
    }
   ],
   "source": [
    "#Check the breakdown of families with and without pets among top-customers\n",
    "\n",
    "top_cstmrs['family_with_pet'].value_counts(dropna= False)"
   ]
  },
  {
   "cell_type": "code",
   "execution_count": 94,
   "id": "a0900e9c",
   "metadata": {},
   "outputs": [
    {
     "data": {
      "text/plain": [
       "(30992664, 40)"
      ]
     },
     "execution_count": 94,
     "metadata": {},
     "output_type": "execute_result"
    }
   ],
   "source": [
    "#Confirm the addition of the new column in the dataframe\n",
    "\n",
    "top_cstmrs.shape"
   ]
  },
  {
   "cell_type": "code",
   "execution_count": null,
   "id": "7816ad68",
   "metadata": {},
   "outputs": [],
   "source": []
  },
  {
   "cell_type": "code",
   "execution_count": 99,
   "id": "360cd60f",
   "metadata": {},
   "outputs": [],
   "source": [
    "#Create a column for periodic shoppers\n",
    "top_cstmrs.loc[top_cstmrs['orders_day_of_week'] >= 6, 'Periodic Shopper'] = 'Weekend'\n",
    "top_cstmrs.loc[top_cstmrs['orders_day_of_week'] < 6, 'Periodic Shopper'] = 'Weekday'"
   ]
  },
  {
   "cell_type": "code",
   "execution_count": 100,
   "id": "31ba2fcb",
   "metadata": {},
   "outputs": [
    {
     "data": {
      "text/plain": [
       "Weekday    26697764\n",
       "Weekend     4294900\n",
       "Name: Periodic Shopper, dtype: int64"
      ]
     },
     "execution_count": 100,
     "metadata": {},
     "output_type": "execute_result"
    }
   ],
   "source": [
    "#Check the breakout of weekday vs weekend shoppers\n",
    "top_cstmrs['Periodic Shopper'].value_counts(dropna = False)"
   ]
  },
  {
   "cell_type": "code",
   "execution_count": null,
   "id": "947895ab",
   "metadata": {},
   "outputs": [],
   "source": []
  },
  {
   "cell_type": "code",
   "execution_count": 91,
   "id": "098a68b8",
   "metadata": {},
   "outputs": [
    {
     "data": {
      "text/plain": [
       "Male      15600678\n",
       "Female    15391986\n",
       "Name: Gender, dtype: int64"
      ]
     },
     "execution_count": 91,
     "metadata": {},
     "output_type": "execute_result"
    }
   ],
   "source": [
    "# Uncovering male vs female shoppers within our top customers\n",
    "top_cstmrs['Gender'].value_counts(dropna= False)"
   ]
  },
  {
   "cell_type": "code",
   "execution_count": null,
   "id": "1355cfe5",
   "metadata": {},
   "outputs": [],
   "source": []
  },
  {
   "cell_type": "code",
   "execution_count": 101,
   "id": "8ec308f7",
   "metadata": {},
   "outputs": [
    {
     "data": {
      "text/plain": [
       "10    2652281\n",
       "11    2617231\n",
       "14    2570222\n",
       "13    2541503\n",
       "15    2538243\n",
       "12    2497952\n",
       "16    2415842\n",
       "9     2365985\n",
       "17    1984054\n",
       "8     1660870\n",
       "18    1552536\n",
       "19    1194898\n",
       "20     931727\n",
       "7      864060\n",
       "21     763806\n",
       "22     607549\n",
       "23     384830\n",
       "6      281282\n",
       "0      208208\n",
       "1      109704\n",
       "5       84508\n",
       "2       65740\n",
       "4       50802\n",
       "3       48831\n",
       "Name: order_hour_of_day, dtype: int64"
      ]
     },
     "execution_count": 101,
     "metadata": {},
     "output_type": "execute_result"
    }
   ],
   "source": [
    "#Look at distribution of orders by hour of day amongst our top customers\n",
    "top_cstmrs['order_hour_of_day'].value_counts(dropna = False)"
   ]
  },
  {
   "cell_type": "code",
   "execution_count": 102,
   "id": "1121f947",
   "metadata": {},
   "outputs": [
    {
     "name": "stderr",
     "output_type": "stream",
     "text": [
      "C:\\Users\\dmlos\\AppData\\Local\\Temp\\ipykernel_6716\\2024915269.py:3: SettingWithCopyWarning: \n",
      "A value is trying to be set on a copy of a slice from a DataFrame.\n",
      "Try using .loc[row_indexer,col_indexer] = value instead\n",
      "\n",
      "See the caveats in the documentation: https://pandas.pydata.org/pandas-docs/stable/user_guide/indexing.html#returning-a-view-versus-a-copy\n",
      "  top_cstmrs.loc[(top_cstmrs['order_hour_of_day'] >= 0) & (top_cstmrs['order_hour_of_day'] <= 5), 'Purchase_Period'] = 'Early Morning'\n"
     ]
    }
   ],
   "source": [
    "#Creating a 'Purchase_Period' column for early morning, late morning, afternoon&evening, and late-night shoppers\n",
    "\n",
    "top_cstmrs.loc[(top_cstmrs['order_hour_of_day'] >= 0) & (top_cstmrs['order_hour_of_day'] <= 5), 'Purchase_Period'] = 'Early Morning'\n",
    "top_cstmrs.loc[(top_cstmrs['order_hour_of_day'] >= 6) & (top_cstmrs['order_hour_of_day'] <= 11), 'Purchase_Period'] = 'Late Morning'\n",
    "top_cstmrs.loc[(top_cstmrs['order_hour_of_day'] >= 12) & (top_cstmrs['order_hour_of_day'] <= 17), 'Purchase_Period'] = 'Afternoon'\n",
    "top_cstmrs.loc[(top_cstmrs['order_hour_of_day'] >= 18) & (top_cstmrs['order_hour_of_day'] <= 23), 'Purchase_Period'] = 'Evening/Night'"
   ]
  },
  {
   "cell_type": "code",
   "execution_count": 103,
   "id": "6c4584e3",
   "metadata": {},
   "outputs": [
    {
     "data": {
      "text/plain": [
       "Afternoon        14547816\n",
       "Late Morning     10441709\n",
       "Evening/Night     5435346\n",
       "Early Morning      567793\n",
       "Name: Purchase_Period, dtype: int64"
      ]
     },
     "execution_count": 103,
     "metadata": {},
     "output_type": "execute_result"
    }
   ],
   "source": [
    "#Check the breakout of popular purchase time periods among our top customers\n",
    "top_cstmrs['Purchase_Period'].value_counts(dropna = False)"
   ]
  },
  {
   "cell_type": "code",
   "execution_count": null,
   "id": "8dd96b74",
   "metadata": {},
   "outputs": [],
   "source": []
  },
  {
   "cell_type": "code",
   "execution_count": null,
   "id": "04beeb88",
   "metadata": {},
   "outputs": [],
   "source": [
    "#Create pie chart displaying the distribution of pet-owners and non-owners"
   ]
  },
  {
   "cell_type": "code",
   "execution_count": null,
   "id": "07375ba0",
   "metadata": {},
   "outputs": [],
   "source": [
    "pet_owner_pie = top_cstmrs[''].value_counts().plot.pie(labels = ['' , ''], autopct = (), colors = ['', ''], label = '', explode = [0, 0.2])\n",
    "pet_owner_pie.legend(title = 'Purchase Period: ', loc = 'upper left')\n",
    "plt.title( \"Purchase Period\", fontsize= '18')"
   ]
  },
  {
   "cell_type": "code",
   "execution_count": null,
   "id": "101187a3",
   "metadata": {},
   "outputs": [],
   "source": []
  },
  {
   "cell_type": "code",
   "execution_count": 114,
   "id": "072b5682",
   "metadata": {},
   "outputs": [
    {
     "data": {
      "text/plain": [
       "Text(0.5, 1.0, 'Purchase Period')"
      ]
     },
     "execution_count": 114,
     "metadata": {},
     "output_type": "execute_result"
    },
    {
     "data": {
      "image/png": "[encoded data removed]",
      "text/plain": [
       "<Figure size 640x480 with 1 Axes>"
      ]
     },
     "metadata": {},
     "output_type": "display_data"
    }
   ],
   "source": [
    "#Create pie chart displaying the distribution of shoppers by time period of day\n",
    "\n",
    "purchase_period_pie = top_cstmrs['Purchase_Period'].value_counts().plot.pie(labels = ['Afternoon','Late Morning','Evening/Night', 'Early Morning'], autopct=('%1.f%%'), colors = ['#7CCD7C','#8B7765', '#AEEEEE', '#668B8B'])\n",
    "purchase_period_pie.legend(title = 'Purchase Period: ', loc = 'upper left')\n",
    "plt.title( \"Purchase Period\", fontsize= '18')"
   ]
  },
  {
   "cell_type": "code",
   "execution_count": null,
   "id": "fd3045e7",
   "metadata": {},
   "outputs": [],
   "source": []
  },
  {
   "cell_type": "code",
   "execution_count": 119,
   "id": "478d85a4",
   "metadata": {},
   "outputs": [
    {
     "data": {
      "text/plain": [
       "Text(0.5, 0, 'Order Periods')"
      ]
     },
     "execution_count": 119,
     "metadata": {},
     "output_type": "execute_result"
    },
    {
     "data": {
      "image/png": "[encoded data removed]",
      "text/plain": [
       "<Figure size 640x480 with 1 Axes>"
      ]
     },
     "metadata": {},
     "output_type": "display_data"
    }
   ],
   "source": [
    "#Create a bar chart displaying the distribution of customers by order period\n",
    "\n",
    "order_period_bar = top_cstmrs['Purchase_Period'].value_counts().plot.bar( color = ['#4A708B', '#AEEEEE', '#7CCD7C'])\n",
    "plt.title('Order Period for Top Customers', fontsize = 18, pad=20)\n",
    "plt.ylabel('Frequency (in millions)', fontsize = 12)\n",
    "plt.xlabel('Order Periods',  fontsize = 12)\n"
   ]
  },
  {
   "cell_type": "code",
   "execution_count": null,
   "id": "ad587ece",
   "metadata": {},
   "outputs": [],
   "source": []
  },
  {
   "cell_type": "code",
   "execution_count": 148,
   "id": "4935dc55",
   "metadata": {},
   "outputs": [
    {
     "data": {
      "text/plain": [
       "Text(0.5, 1.0, 'Families With Babies')"
      ]
     },
     "execution_count": 148,
     "metadata": {},
     "output_type": "execute_result"
    },
    {
     "data": {
      "image/png": "[encoded data removed]",
      "text/plain": [
       "<Figure size 640x480 with 1 Axes>"
      ]
     },
     "metadata": {},
     "output_type": "display_data"
    }
   ],
   "source": [
    "#Create pie chart displaying the distribution of families with babies and families without babies\n",
    "\n",
    "child_status_pie = top_cstmrs['family_with_baby'].value_counts().plot.pie(labels = ['No','Yes'], autopct=('%1.f%%'), colors = ['#708090','#BDFCC9'], label = '', explode = [0,0.2])\n",
    "child_status_pie.legend(title = 'Family With Baby: ', loc = 'upper right')\n",
    "plt.title( \"Families With Babies\", fontsize= '18')"
   ]
  },
  {
   "cell_type": "code",
   "execution_count": null,
   "id": "88cc1026",
   "metadata": {},
   "outputs": [],
   "source": []
  },
  {
   "cell_type": "code",
   "execution_count": 121,
   "id": "bc89ee27",
   "metadata": {},
   "outputs": [
    {
     "data": {
      "text/plain": [
       "Text(0.5, 0, 'Income Brackets')"
      ]
     },
     "execution_count": 121,
     "metadata": {},
     "output_type": "execute_result"
    },
    {
     "data": {
      "image/png": "[encoded data removed]",
      "text/plain": [
       "<Figure size 640x480 with 1 Axes>"
      ]
     },
     "metadata": {},
     "output_type": "display_data"
    }
   ],
   "source": [
    "#Create a bar chart displaying the distribution of households by income bracket\n",
    "income_bracket_bar = top_cstmrs['income_category'].value_counts().plot.bar( color = ['#4A708B', '#AEEEEE', '#7CCD7C', '#C1CDCD'])\n",
    "plt.title('Top Customers by Income Bracket', fontsize = 18, pad=20)\n",
    "plt.ylabel('Frequency (in millions)', fontsize = 12)\n",
    "plt.xlabel('Income Brackets',  fontsize = 12)\n"
   ]
  },
  {
   "cell_type": "code",
   "execution_count": null,
   "id": "3422f541",
   "metadata": {},
   "outputs": [],
   "source": []
  },
  {
   "cell_type": "code",
   "execution_count": 123,
   "id": "369d6de1",
   "metadata": {},
   "outputs": [
    {
     "data": {
      "text/html": [
       "<div>\n",
       "<style scoped>\n",
       "    .dataframe tbody tr th:only-of-type {\n",
       "        vertical-align: middle;\n",
       "    }\n",
       "\n",
       "    .dataframe tbody tr th {\n",
       "        vertical-align: top;\n",
       "    }\n",
       "\n",
       "    .dataframe thead th {\n",
       "        text-align: right;\n",
       "    }\n",
       "</style>\n",
       "<table border=\"1\" class=\"dataframe\">\n",
       "  <thead>\n",
       "    <tr style=\"text-align: right;\">\n",
       "      <th>income_category</th>\n",
       "      <th>High</th>\n",
       "      <th>Low</th>\n",
       "      <th>Middle</th>\n",
       "      <th>Upper mid</th>\n",
       "    </tr>\n",
       "    <tr>\n",
       "      <th>region</th>\n",
       "      <th></th>\n",
       "      <th></th>\n",
       "      <th></th>\n",
       "      <th></th>\n",
       "    </tr>\n",
       "  </thead>\n",
       "  <tbody>\n",
       "    <tr>\n",
       "      <th>Midwest</th>\n",
       "      <td>1843691</td>\n",
       "      <td>1792029</td>\n",
       "      <td>1779599</td>\n",
       "      <td>1852388</td>\n",
       "    </tr>\n",
       "    <tr>\n",
       "      <th>Northeast</th>\n",
       "      <td>1374284</td>\n",
       "      <td>1368199</td>\n",
       "      <td>1357293</td>\n",
       "      <td>1370292</td>\n",
       "    </tr>\n",
       "    <tr>\n",
       "      <th>South</th>\n",
       "      <td>2551358</td>\n",
       "      <td>2595307</td>\n",
       "      <td>2642074</td>\n",
       "      <td>2531723</td>\n",
       "    </tr>\n",
       "    <tr>\n",
       "      <th>West</th>\n",
       "      <td>1979201</td>\n",
       "      <td>1991921</td>\n",
       "      <td>1969623</td>\n",
       "      <td>1993682</td>\n",
       "    </tr>\n",
       "  </tbody>\n",
       "</table>\n",
       "</div>"
      ],
      "text/plain": [
       "income_category     High      Low   Middle  Upper mid\n",
       "region                                               \n",
       "Midwest          1843691  1792029  1779599    1852388\n",
       "Northeast        1374284  1368199  1357293    1370292\n",
       "South            2551358  2595307  2642074    2531723\n",
       "West             1979201  1991921  1969623    1993682"
      ]
     },
     "execution_count": 123,
     "metadata": {},
     "output_type": "execute_result"
    }
   ],
   "source": [
    "#Create a crosstab of customers by income bracket in different regions\n",
    "\n",
    "crosstab_income_region = pd.crosstab (top_cstmrs['region'], top_cstmrs['income_category'], dropna = False)\n",
    "crosstab_income_region"
   ]
  },
  {
   "cell_type": "code",
   "execution_count": null,
   "id": "c56d12e5",
   "metadata": {},
   "outputs": [],
   "source": []
  },
  {
   "cell_type": "code",
   "execution_count": 131,
   "id": "4721f5ed",
   "metadata": {},
   "outputs": [
    {
     "data": {
      "text/plain": [
       "Text(0.5, 0, 'Region')"
      ]
     },
     "execution_count": 131,
     "metadata": {},
     "output_type": "execute_result"
    },
    {
     "data": {
      "image/png": "[encoded data removed]",
      "text/plain": [
       "<Figure size 640x480 with 1 Axes>"
      ]
     },
     "metadata": {},
     "output_type": "display_data"
    }
   ],
   "source": [
    "#Create a bar chart displaying the distribution of customers by income bracket and region\n",
    "income_bracket_bar = crosstab_income_region.plot.bar( color = ['#4A708B', '#AEEEEE', '#7CCD7C', '#C1CDCD'])\n",
    "plt.title('Top Customers by Income Bracket & Region', fontsize = 18, pad=20)\n",
    "plt.ylabel('Frequency (in millions)', fontsize = 12)\n",
    "plt.xlabel('Region',  fontsize = 12)\n"
   ]
  },
  {
   "cell_type": "code",
   "execution_count": null,
   "id": "a453214e",
   "metadata": {},
   "outputs": [],
   "source": []
  },
  {
   "cell_type": "code",
   "execution_count": 147,
   "id": "708e30f3",
   "metadata": {},
   "outputs": [
    {
     "data": {
      "text/plain": [
       "Text(0.5, 0, 'Family Structure')"
      ]
     },
     "execution_count": 147,
     "metadata": {},
     "output_type": "execute_result"
    },
    {
     "data": {
      "image/png": "[encoded data removed]",
      "text/plain": [
       "<Figure size 640x480 with 1 Axes>"
      ]
     },
     "metadata": {},
     "output_type": "display_data"
    }
   ],
   "source": [
    "#Create a bar chart displaying the distribution of customers by family situation\n",
    "family_structure_bar = top_cstmrs['household'].value_counts().plot.bar( color = ['#4A708B', '#AEEEEE', '#7CCD7C', '#EECFA1'])\n",
    "plt.title('Family Structure of Top Customer Households', fontsize = 18, pad=20)\n",
    "plt.ylabel('Frequency (in millions)', fontsize = 12)\n",
    "plt.xlabel('Family Structure',  fontsize = 12)"
   ]
  },
  {
   "cell_type": "code",
   "execution_count": null,
   "id": "a9c4e813",
   "metadata": {},
   "outputs": [],
   "source": []
  },
  {
   "cell_type": "code",
   "execution_count": 116,
   "id": "ffe78ed6",
   "metadata": {},
   "outputs": [
    {
     "data": {
      "text/plain": [
       "Text(0.5, 1.0, 'Pet Owner Status')"
      ]
     },
     "execution_count": 116,
     "metadata": {},
     "output_type": "execute_result"
    },
    {
     "data": {
      "image/png": "[encoded data removed]",
      "text/plain": [
       "<Figure size 640x480 with 1 Axes>"
      ]
     },
     "metadata": {},
     "output_type": "display_data"
    }
   ],
   "source": [
    "#Create a pie chart displaying the distribution of pet-owners among our top customers\n",
    "\n",
    "bar_inc_reg = crosstab_income_region.plot(kind = 'bar', rot = 0, color= ['#7CCD7C', '#8B7765', '#AEEEEE', '#668B8B'])\n",
    "# The default for bbox_to_anchor is (0,0,1,1), which is a bounding box over the complete axes. If a different bounding box is specified, is is usually sufficient to use the first two values, which give (x0, y0) of the bounding box.\n",
    "bar_inc_reg.legend(title='Income Category', bbox_to_anchor=(1, 1.02), loc='upper left')\n",
    "plt.title('Income Category Distribution in Each Region', fontsize = 18, pad=20)\n",
    "plt.ylabel('Frequency (in millions)', fontsize = 12)\n",
    "plt.xlabel('Region',  fontsize = 12)"
   ]
  },
  {
   "cell_type": "code",
   "execution_count": null,
   "id": "6e33adc2",
   "metadata": {},
   "outputs": [],
   "source": []
  },
  {
   "cell_type": "code",
   "execution_count": 106,
   "id": "c46c039c",
   "metadata": {},
   "outputs": [
    {
     "data": {
      "text/plain": [
       "Text(0.5, 1.0, 'Shopper Origin')"
      ]
     },
     "execution_count": 106,
     "metadata": {},
     "output_type": "execute_result"
    },
    {
     "data": {
      "image/png": "[encoded data removed]",
      "text/plain": [
       "<Figure size 640x480 with 1 Axes>"
      ]
     },
     "metadata": {},
     "output_type": "display_data"
    }
   ],
   "source": [
    "#Create a pie chart displaying the distribution of foreign_born to non-foreign shoppers among our top customers\n",
    "\n",
    "foreign_born_pie = top_cstmrs['foreign_born_shopper'].value_counts().plot.pie(labels = ['No','Yes'], autopct=('%1.f%%'), colors = ['#708090','#BDFCC9'], label = '', explode = [0,0.2])\n",
    "foreign_born_pie.legend(title = 'Foreign-Born: ', loc = 'upper right')\n",
    "plt.title( \"Shopper Origin\", fontsize= '18')"
   ]
  },
  {
   "cell_type": "code",
   "execution_count": null,
   "id": "f15b1cdd",
   "metadata": {},
   "outputs": [],
   "source": []
  },
  {
   "cell_type": "code",
   "execution_count": 105,
   "id": "a7e1e064",
   "metadata": {},
   "outputs": [
    {
     "data": {
      "text/plain": [
       "Text(0.5, 1.0, 'Top Customers by Gender')"
      ]
     },
     "execution_count": 105,
     "metadata": {},
     "output_type": "execute_result"
    },
    {
     "data": {
      "image/png": "[encoded data removed]",
      "text/plain": [
       "<Figure size 640x480 with 1 Axes>"
      ]
     },
     "metadata": {},
     "output_type": "display_data"
    }
   ],
   "source": [
    "#Create a pie chart displaying the distribution of gender among our top customers\n",
    "\n",
    "shopper_gender_pie = top_cstmrs['Gender'].value_counts().plot.pie(labels = ['Male','Female'], autopct=('%1.f%%'), colors = ['#708090','#BDFCC9'], label = '', explode = [0,0.2])\n",
    "shopper_gender_pie.legend(title = 'Customer Gender: ', loc = 'upper right')\n",
    "plt.title( \"Top Customers by Gender\", fontsize= '18')"
   ]
  },
  {
   "cell_type": "code",
   "execution_count": null,
   "id": "a7fc8bbf",
   "metadata": {},
   "outputs": [],
   "source": []
  },
  {
   "cell_type": "code",
   "execution_count": 149,
   "id": "48378e50",
   "metadata": {},
   "outputs": [
    {
     "data": {
      "text/html": [
       "<div>\n",
       "<style scoped>\n",
       "    .dataframe tbody tr th:only-of-type {\n",
       "        vertical-align: middle;\n",
       "    }\n",
       "\n",
       "    .dataframe tbody tr th {\n",
       "        vertical-align: top;\n",
       "    }\n",
       "\n",
       "    .dataframe thead tr th {\n",
       "        text-align: left;\n",
       "    }\n",
       "\n",
       "    .dataframe thead tr:last-of-type th {\n",
       "        text-align: right;\n",
       "    }\n",
       "</style>\n",
       "<table border=\"1\" class=\"dataframe\">\n",
       "  <thead>\n",
       "    <tr>\n",
       "      <th></th>\n",
       "      <th colspan=\"3\" halign=\"left\">prices</th>\n",
       "    </tr>\n",
       "    <tr>\n",
       "      <th></th>\n",
       "      <th>mean</th>\n",
       "      <th>min</th>\n",
       "      <th>max</th>\n",
       "    </tr>\n",
       "    <tr>\n",
       "      <th>department</th>\n",
       "      <th></th>\n",
       "      <th></th>\n",
       "      <th></th>\n",
       "    </tr>\n",
       "  </thead>\n",
       "  <tbody>\n",
       "    <tr>\n",
       "      <th>alcohol</th>\n",
       "      <td>8.148438</td>\n",
       "      <td>1.000000</td>\n",
       "      <td>15.000000</td>\n",
       "    </tr>\n",
       "    <tr>\n",
       "      <th>babies</th>\n",
       "      <td>7.632812</td>\n",
       "      <td>1.000000</td>\n",
       "      <td>15.000000</td>\n",
       "    </tr>\n",
       "    <tr>\n",
       "      <th>bakery</th>\n",
       "      <td>7.867188</td>\n",
       "      <td>1.000000</td>\n",
       "      <td>15.000000</td>\n",
       "    </tr>\n",
       "    <tr>\n",
       "      <th>beverages</th>\n",
       "      <td>7.683594</td>\n",
       "      <td>1.000000</td>\n",
       "      <td>15.000000</td>\n",
       "    </tr>\n",
       "    <tr>\n",
       "      <th>breakfast</th>\n",
       "      <td>8.070312</td>\n",
       "      <td>1.000000</td>\n",
       "      <td>14.898438</td>\n",
       "    </tr>\n",
       "    <tr>\n",
       "      <th>bulk</th>\n",
       "      <td>8.343750</td>\n",
       "      <td>1.400391</td>\n",
       "      <td>14.101562</td>\n",
       "    </tr>\n",
       "    <tr>\n",
       "      <th>canned goods</th>\n",
       "      <td>7.546875</td>\n",
       "      <td>1.000000</td>\n",
       "      <td>15.000000</td>\n",
       "    </tr>\n",
       "    <tr>\n",
       "      <th>dairy eggs</th>\n",
       "      <td>NaN</td>\n",
       "      <td>1.000000</td>\n",
       "      <td>inf</td>\n",
       "    </tr>\n",
       "    <tr>\n",
       "      <th>deli</th>\n",
       "      <td>7.781250</td>\n",
       "      <td>1.000000</td>\n",
       "      <td>15.000000</td>\n",
       "    </tr>\n",
       "    <tr>\n",
       "      <th>dry goods pasta</th>\n",
       "      <td>7.347656</td>\n",
       "      <td>1.000000</td>\n",
       "      <td>15.000000</td>\n",
       "    </tr>\n",
       "    <tr>\n",
       "      <th>frozen</th>\n",
       "      <td>7.738281</td>\n",
       "      <td>1.000000</td>\n",
       "      <td>15.000000</td>\n",
       "    </tr>\n",
       "    <tr>\n",
       "      <th>household</th>\n",
       "      <td>7.378906</td>\n",
       "      <td>1.000000</td>\n",
       "      <td>15.000000</td>\n",
       "    </tr>\n",
       "    <tr>\n",
       "      <th>international</th>\n",
       "      <td>7.679688</td>\n",
       "      <td>1.000000</td>\n",
       "      <td>15.000000</td>\n",
       "    </tr>\n",
       "    <tr>\n",
       "      <th>meat seafood</th>\n",
       "      <td>16.296875</td>\n",
       "      <td>8.000000</td>\n",
       "      <td>25.000000</td>\n",
       "    </tr>\n",
       "    <tr>\n",
       "      <th>missing</th>\n",
       "      <td>8.664062</td>\n",
       "      <td>1.000000</td>\n",
       "      <td>15.000000</td>\n",
       "    </tr>\n",
       "    <tr>\n",
       "      <th>other</th>\n",
       "      <td>6.960938</td>\n",
       "      <td>1.099609</td>\n",
       "      <td>15.000000</td>\n",
       "    </tr>\n",
       "    <tr>\n",
       "      <th>pantry</th>\n",
       "      <td>8.015625</td>\n",
       "      <td>1.000000</td>\n",
       "      <td>20.000000</td>\n",
       "    </tr>\n",
       "    <tr>\n",
       "      <th>personal care</th>\n",
       "      <td>8.000000</td>\n",
       "      <td>1.000000</td>\n",
       "      <td>15.000000</td>\n",
       "    </tr>\n",
       "    <tr>\n",
       "      <th>pets</th>\n",
       "      <td>7.886719</td>\n",
       "      <td>1.000000</td>\n",
       "      <td>15.000000</td>\n",
       "    </tr>\n",
       "    <tr>\n",
       "      <th>produce</th>\n",
       "      <td>7.980469</td>\n",
       "      <td>1.000000</td>\n",
       "      <td>15.000000</td>\n",
       "    </tr>\n",
       "    <tr>\n",
       "      <th>snacks</th>\n",
       "      <td>4.277344</td>\n",
       "      <td>1.599609</td>\n",
       "      <td>7.000000</td>\n",
       "    </tr>\n",
       "  </tbody>\n",
       "</table>\n",
       "</div>"
      ],
      "text/plain": [
       "                    prices                     \n",
       "                      mean       min        max\n",
       "department                                     \n",
       "alcohol           8.148438  1.000000  15.000000\n",
       "babies            7.632812  1.000000  15.000000\n",
       "bakery            7.867188  1.000000  15.000000\n",
       "beverages         7.683594  1.000000  15.000000\n",
       "breakfast         8.070312  1.000000  14.898438\n",
       "bulk              8.343750  1.400391  14.101562\n",
       "canned goods      7.546875  1.000000  15.000000\n",
       "dairy eggs             NaN  1.000000        inf\n",
       "deli              7.781250  1.000000  15.000000\n",
       "dry goods pasta   7.347656  1.000000  15.000000\n",
       "frozen            7.738281  1.000000  15.000000\n",
       "household         7.378906  1.000000  15.000000\n",
       "international     7.679688  1.000000  15.000000\n",
       "meat seafood     16.296875  8.000000  25.000000\n",
       "missing           8.664062  1.000000  15.000000\n",
       "other             6.960938  1.099609  15.000000\n",
       "pantry            8.015625  1.000000  20.000000\n",
       "personal care     8.000000  1.000000  15.000000\n",
       "pets              7.886719  1.000000  15.000000\n",
       "produce           7.980469  1.000000  15.000000\n",
       "snacks            4.277344  1.599609   7.000000"
      ]
     },
     "execution_count": 149,
     "metadata": {},
     "output_type": "execute_result"
    }
   ],
   "source": [
    "#Department Expenditures Aggregation\n",
    "\n",
    "top_cstmrs.groupby('department').agg({'prices': ['mean', 'min', 'max']})"
   ]
  },
  {
   "cell_type": "code",
   "execution_count": 150,
   "id": "c5fd6c2a",
   "metadata": {},
   "outputs": [
    {
     "data": {
      "text/html": [
       "<div>\n",
       "<style scoped>\n",
       "    .dataframe tbody tr th:only-of-type {\n",
       "        vertical-align: middle;\n",
       "    }\n",
       "\n",
       "    .dataframe tbody tr th {\n",
       "        vertical-align: top;\n",
       "    }\n",
       "\n",
       "    .dataframe thead tr th {\n",
       "        text-align: left;\n",
       "    }\n",
       "\n",
       "    .dataframe thead tr:last-of-type th {\n",
       "        text-align: right;\n",
       "    }\n",
       "</style>\n",
       "<table border=\"1\" class=\"dataframe\">\n",
       "  <thead>\n",
       "    <tr>\n",
       "      <th></th>\n",
       "      <th colspan=\"3\" halign=\"left\">add_to_cart_order</th>\n",
       "    </tr>\n",
       "    <tr>\n",
       "      <th></th>\n",
       "      <th>mean</th>\n",
       "      <th>min</th>\n",
       "      <th>max</th>\n",
       "    </tr>\n",
       "    <tr>\n",
       "      <th>age_category</th>\n",
       "      <th></th>\n",
       "      <th></th>\n",
       "      <th></th>\n",
       "    </tr>\n",
       "  </thead>\n",
       "  <tbody>\n",
       "    <tr>\n",
       "      <th>Middle age</th>\n",
       "      <td>8.351562</td>\n",
       "      <td>1.0</td>\n",
       "      <td>145.0</td>\n",
       "    </tr>\n",
       "    <tr>\n",
       "      <th>Senior</th>\n",
       "      <td>8.304688</td>\n",
       "      <td>1.0</td>\n",
       "      <td>99.0</td>\n",
       "    </tr>\n",
       "    <tr>\n",
       "      <th>Youth</th>\n",
       "      <td>8.414062</td>\n",
       "      <td>1.0</td>\n",
       "      <td>109.0</td>\n",
       "    </tr>\n",
       "  </tbody>\n",
       "</table>\n",
       "</div>"
      ],
      "text/plain": [
       "             add_to_cart_order            \n",
       "                          mean  min    max\n",
       "age_category                              \n",
       "Middle age            8.351562  1.0  145.0\n",
       "Senior                8.304688  1.0   99.0\n",
       "Youth                 8.414062  1.0  109.0"
      ]
     },
     "execution_count": 150,
     "metadata": {},
     "output_type": "execute_result"
    }
   ],
   "source": [
    "#Aggregate usage frequency figures by age category\n",
    "\n",
    "top_cstmrs.groupby('age_category').agg({'add_to_cart_order': ['mean', 'min', 'max']})"
   ]
  },
  {
   "cell_type": "code",
   "execution_count": 151,
   "id": "eb668891",
   "metadata": {},
   "outputs": [
    {
     "data": {
      "text/html": [
       "<div>\n",
       "<style scoped>\n",
       "    .dataframe tbody tr th:only-of-type {\n",
       "        vertical-align: middle;\n",
       "    }\n",
       "\n",
       "    .dataframe tbody tr th {\n",
       "        vertical-align: top;\n",
       "    }\n",
       "\n",
       "    .dataframe thead tr th {\n",
       "        text-align: left;\n",
       "    }\n",
       "\n",
       "    .dataframe thead tr:last-of-type th {\n",
       "        text-align: right;\n",
       "    }\n",
       "</style>\n",
       "<table border=\"1\" class=\"dataframe\">\n",
       "  <thead>\n",
       "    <tr>\n",
       "      <th></th>\n",
       "      <th colspan=\"3\" halign=\"left\">add_to_cart_order</th>\n",
       "    </tr>\n",
       "    <tr>\n",
       "      <th></th>\n",
       "      <th>mean</th>\n",
       "      <th>min</th>\n",
       "      <th>max</th>\n",
       "    </tr>\n",
       "    <tr>\n",
       "      <th>region</th>\n",
       "      <th></th>\n",
       "      <th></th>\n",
       "      <th></th>\n",
       "    </tr>\n",
       "  </thead>\n",
       "  <tbody>\n",
       "    <tr>\n",
       "      <th>Midwest</th>\n",
       "      <td>8.351562</td>\n",
       "      <td>1.0</td>\n",
       "      <td>109.0</td>\n",
       "    </tr>\n",
       "    <tr>\n",
       "      <th>Northeast</th>\n",
       "      <td>8.375000</td>\n",
       "      <td>1.0</td>\n",
       "      <td>145.0</td>\n",
       "    </tr>\n",
       "    <tr>\n",
       "      <th>South</th>\n",
       "      <td>8.367188</td>\n",
       "      <td>1.0</td>\n",
       "      <td>137.0</td>\n",
       "    </tr>\n",
       "    <tr>\n",
       "      <th>West</th>\n",
       "      <td>8.359375</td>\n",
       "      <td>1.0</td>\n",
       "      <td>114.0</td>\n",
       "    </tr>\n",
       "  </tbody>\n",
       "</table>\n",
       "</div>"
      ],
      "text/plain": [
       "          add_to_cart_order            \n",
       "                       mean  min    max\n",
       "region                                 \n",
       "Midwest            8.351562  1.0  109.0\n",
       "Northeast          8.375000  1.0  145.0\n",
       "South              8.367188  1.0  137.0\n",
       "West               8.359375  1.0  114.0"
      ]
     },
     "execution_count": 151,
     "metadata": {},
     "output_type": "execute_result"
    }
   ],
   "source": [
    "#Aggregate usage frequency figures by region\n",
    "\n",
    "top_cstmrs.groupby('region').agg({'add_to_cart_order': ['mean', 'min', 'max']})"
   ]
  },
  {
   "cell_type": "code",
   "execution_count": 156,
   "id": "d15cc1e0",
   "metadata": {},
   "outputs": [
    {
     "data": {
      "text/html": [
       "<div>\n",
       "<style scoped>\n",
       "    .dataframe tbody tr th:only-of-type {\n",
       "        vertical-align: middle;\n",
       "    }\n",
       "\n",
       "    .dataframe tbody tr th {\n",
       "        vertical-align: top;\n",
       "    }\n",
       "\n",
       "    .dataframe thead tr th {\n",
       "        text-align: left;\n",
       "    }\n",
       "\n",
       "    .dataframe thead tr:last-of-type th {\n",
       "        text-align: right;\n",
       "    }\n",
       "</style>\n",
       "<table border=\"1\" class=\"dataframe\">\n",
       "  <thead>\n",
       "    <tr>\n",
       "      <th></th>\n",
       "      <th colspan=\"3\" halign=\"left\">prices</th>\n",
       "    </tr>\n",
       "    <tr>\n",
       "      <th></th>\n",
       "      <th>mean</th>\n",
       "      <th>min</th>\n",
       "      <th>max</th>\n",
       "    </tr>\n",
       "    <tr>\n",
       "      <th>income_category</th>\n",
       "      <th></th>\n",
       "      <th></th>\n",
       "      <th></th>\n",
       "    </tr>\n",
       "  </thead>\n",
       "  <tbody>\n",
       "    <tr>\n",
       "      <th>High</th>\n",
       "      <td>NaN</td>\n",
       "      <td>1.0</td>\n",
       "      <td>inf</td>\n",
       "    </tr>\n",
       "    <tr>\n",
       "      <th>Low</th>\n",
       "      <td>7.316406</td>\n",
       "      <td>1.0</td>\n",
       "      <td>14896.0</td>\n",
       "    </tr>\n",
       "    <tr>\n",
       "      <th>Middle</th>\n",
       "      <td>NaN</td>\n",
       "      <td>1.0</td>\n",
       "      <td>inf</td>\n",
       "    </tr>\n",
       "    <tr>\n",
       "      <th>Upper mid</th>\n",
       "      <td>NaN</td>\n",
       "      <td>1.0</td>\n",
       "      <td>inf</td>\n",
       "    </tr>\n",
       "  </tbody>\n",
       "</table>\n",
       "</div>"
      ],
      "text/plain": [
       "                   prices              \n",
       "                     mean  min      max\n",
       "income_category                        \n",
       "High                  NaN  1.0      inf\n",
       "Low              7.316406  1.0  14896.0\n",
       "Middle                NaN  1.0      inf\n",
       "Upper mid             NaN  1.0      inf"
      ]
     },
     "execution_count": 156,
     "metadata": {},
     "output_type": "execute_result"
    }
   ],
   "source": [
    "#Department Expenditures Aggregation by Income Bracket\n",
    "top_cstmrs.groupby('income_category').agg({'prices': ['mean', 'min', 'max']})"
   ]
  },
  {
   "cell_type": "code",
   "execution_count": 154,
   "id": "3203018e",
   "metadata": {},
   "outputs": [
    {
     "data": {
      "text/html": [
       "<div>\n",
       "<style scoped>\n",
       "    .dataframe tbody tr th:only-of-type {\n",
       "        vertical-align: middle;\n",
       "    }\n",
       "\n",
       "    .dataframe tbody tr th {\n",
       "        vertical-align: top;\n",
       "    }\n",
       "\n",
       "    .dataframe thead tr th {\n",
       "        text-align: left;\n",
       "    }\n",
       "\n",
       "    .dataframe thead tr:last-of-type th {\n",
       "        text-align: right;\n",
       "    }\n",
       "</style>\n",
       "<table border=\"1\" class=\"dataframe\">\n",
       "  <thead>\n",
       "    <tr>\n",
       "      <th></th>\n",
       "      <th colspan=\"3\" halign=\"left\">prices</th>\n",
       "    </tr>\n",
       "    <tr>\n",
       "      <th></th>\n",
       "      <th>mean</th>\n",
       "      <th>min</th>\n",
       "      <th>max</th>\n",
       "    </tr>\n",
       "    <tr>\n",
       "      <th>region</th>\n",
       "      <th></th>\n",
       "      <th></th>\n",
       "      <th></th>\n",
       "    </tr>\n",
       "  </thead>\n",
       "  <tbody>\n",
       "    <tr>\n",
       "      <th>Midwest</th>\n",
       "      <td>NaN</td>\n",
       "      <td>1.0</td>\n",
       "      <td>inf</td>\n",
       "    </tr>\n",
       "    <tr>\n",
       "      <th>Northeast</th>\n",
       "      <td>NaN</td>\n",
       "      <td>1.0</td>\n",
       "      <td>inf</td>\n",
       "    </tr>\n",
       "    <tr>\n",
       "      <th>South</th>\n",
       "      <td>NaN</td>\n",
       "      <td>1.0</td>\n",
       "      <td>inf</td>\n",
       "    </tr>\n",
       "    <tr>\n",
       "      <th>West</th>\n",
       "      <td>NaN</td>\n",
       "      <td>1.0</td>\n",
       "      <td>inf</td>\n",
       "    </tr>\n",
       "  </tbody>\n",
       "</table>\n",
       "</div>"
      ],
      "text/plain": [
       "          prices          \n",
       "            mean  min  max\n",
       "region                    \n",
       "Midwest      NaN  1.0  inf\n",
       "Northeast    NaN  1.0  inf\n",
       "South        NaN  1.0  inf\n",
       "West         NaN  1.0  inf"
      ]
     },
     "execution_count": 154,
     "metadata": {},
     "output_type": "execute_result"
    }
   ],
   "source": [
    "#Aggregate expenditures figures by region\n",
    "top_cstmrs.groupby('region').agg({'prices': ['mean', 'min', 'max']})"
   ]
  },
  {
   "cell_type": "code",
   "execution_count": 155,
   "id": "ee436b02",
   "metadata": {},
   "outputs": [
    {
     "data": {
      "text/html": [
       "<div>\n",
       "<style scoped>\n",
       "    .dataframe tbody tr th:only-of-type {\n",
       "        vertical-align: middle;\n",
       "    }\n",
       "\n",
       "    .dataframe tbody tr th {\n",
       "        vertical-align: top;\n",
       "    }\n",
       "\n",
       "    .dataframe thead tr th {\n",
       "        text-align: left;\n",
       "    }\n",
       "\n",
       "    .dataframe thead tr:last-of-type th {\n",
       "        text-align: right;\n",
       "    }\n",
       "</style>\n",
       "<table border=\"1\" class=\"dataframe\">\n",
       "  <thead>\n",
       "    <tr>\n",
       "      <th></th>\n",
       "      <th colspan=\"3\" halign=\"left\">add_to_cart_order</th>\n",
       "    </tr>\n",
       "    <tr>\n",
       "      <th></th>\n",
       "      <th>mean</th>\n",
       "      <th>min</th>\n",
       "      <th>max</th>\n",
       "    </tr>\n",
       "    <tr>\n",
       "      <th>household</th>\n",
       "      <th></th>\n",
       "      <th></th>\n",
       "      <th></th>\n",
       "    </tr>\n",
       "  </thead>\n",
       "  <tbody>\n",
       "    <tr>\n",
       "      <th>Couple with children</th>\n",
       "      <td>8.367188</td>\n",
       "      <td>1.0</td>\n",
       "      <td>145.0</td>\n",
       "    </tr>\n",
       "    <tr>\n",
       "      <th>Couple without children</th>\n",
       "      <td>8.375000</td>\n",
       "      <td>1.0</td>\n",
       "      <td>114.0</td>\n",
       "    </tr>\n",
       "    <tr>\n",
       "      <th>Other Arrangement</th>\n",
       "      <td>8.375000</td>\n",
       "      <td>1.0</td>\n",
       "      <td>102.0</td>\n",
       "    </tr>\n",
       "    <tr>\n",
       "      <th>Single person</th>\n",
       "      <td>8.335938</td>\n",
       "      <td>1.0</td>\n",
       "      <td>137.0</td>\n",
       "    </tr>\n",
       "  </tbody>\n",
       "</table>\n",
       "</div>"
      ],
      "text/plain": [
       "                        add_to_cart_order            \n",
       "                                     mean  min    max\n",
       "household                                            \n",
       "Couple with children             8.367188  1.0  145.0\n",
       "Couple without children          8.375000  1.0  114.0\n",
       "Other Arrangement                8.375000  1.0  102.0\n",
       "Single person                    8.335938  1.0  137.0"
      ]
     },
     "execution_count": 155,
     "metadata": {},
     "output_type": "execute_result"
    }
   ],
   "source": [
    "#Aggregate usage frequency figures by household type\n",
    "top_cstmrs.groupby('household').agg({'add_to_cart_order': ['mean', 'min', 'max']})"
   ]
  },
  {
   "cell_type": "code",
   "execution_count": 157,
   "id": "10f5f315",
   "metadata": {},
   "outputs": [
    {
     "data": {
      "text/html": [
       "<div>\n",
       "<style scoped>\n",
       "    .dataframe tbody tr th:only-of-type {\n",
       "        vertical-align: middle;\n",
       "    }\n",
       "\n",
       "    .dataframe tbody tr th {\n",
       "        vertical-align: top;\n",
       "    }\n",
       "\n",
       "    .dataframe thead tr th {\n",
       "        text-align: left;\n",
       "    }\n",
       "\n",
       "    .dataframe thead tr:last-of-type th {\n",
       "        text-align: right;\n",
       "    }\n",
       "</style>\n",
       "<table border=\"1\" class=\"dataframe\">\n",
       "  <thead>\n",
       "    <tr>\n",
       "      <th></th>\n",
       "      <th colspan=\"3\" halign=\"left\">prices</th>\n",
       "    </tr>\n",
       "    <tr>\n",
       "      <th></th>\n",
       "      <th>mean</th>\n",
       "      <th>min</th>\n",
       "      <th>max</th>\n",
       "    </tr>\n",
       "    <tr>\n",
       "      <th>Purchase_Period</th>\n",
       "      <th></th>\n",
       "      <th></th>\n",
       "      <th></th>\n",
       "    </tr>\n",
       "  </thead>\n",
       "  <tbody>\n",
       "    <tr>\n",
       "      <th>Afternoon</th>\n",
       "      <td>NaN</td>\n",
       "      <td>1.0</td>\n",
       "      <td>inf</td>\n",
       "    </tr>\n",
       "    <tr>\n",
       "      <th>Early Morning</th>\n",
       "      <td>NaN</td>\n",
       "      <td>1.0</td>\n",
       "      <td>inf</td>\n",
       "    </tr>\n",
       "    <tr>\n",
       "      <th>Evening/Night</th>\n",
       "      <td>NaN</td>\n",
       "      <td>1.0</td>\n",
       "      <td>inf</td>\n",
       "    </tr>\n",
       "    <tr>\n",
       "      <th>Late Morning</th>\n",
       "      <td>NaN</td>\n",
       "      <td>1.0</td>\n",
       "      <td>inf</td>\n",
       "    </tr>\n",
       "  </tbody>\n",
       "</table>\n",
       "</div>"
      ],
      "text/plain": [
       "                prices          \n",
       "                  mean  min  max\n",
       "Purchase_Period                 \n",
       "Afternoon          NaN  1.0  inf\n",
       "Early Morning      NaN  1.0  inf\n",
       "Evening/Night      NaN  1.0  inf\n",
       "Late Morning       NaN  1.0  inf"
      ]
     },
     "execution_count": 157,
     "metadata": {},
     "output_type": "execute_result"
    }
   ],
   "source": [
    "#Department Expenditures Aggregation by Period Of Purchase\n",
    "top_cstmrs.groupby('Purchase_Period').agg({'prices': ['mean', 'min', 'max']})"
   ]
  },
  {
   "cell_type": "code",
   "execution_count": null,
   "id": "191b3128",
   "metadata": {},
   "outputs": [],
   "source": []
  },
  {
   "cell_type": "code",
   "execution_count": 159,
   "id": "cf8ec172",
   "metadata": {},
   "outputs": [],
   "source": [
    "# Investigating the connection of age categories and the day of drders\n",
    "\n",
    "crosstab_age_day = pd.crosstab(top_cstmrs['age_category'], top_cstmrs['Periodic Shopper'], dropna = False)"
   ]
  },
  {
   "cell_type": "code",
   "execution_count": 161,
   "id": "6f84671e",
   "metadata": {},
   "outputs": [
    {
     "data": {
      "text/plain": [
       "Text(0.5, 0, 'Age Category')"
      ]
     },
     "execution_count": 161,
     "metadata": {},
     "output_type": "execute_result"
    },
    {
     "data": {
      "image/png": "[encoded data removed]",
      "text/plain": [
       "<Figure size 640x480 with 1 Axes>"
      ]
     },
     "metadata": {},
     "output_type": "display_data"
    }
   ],
   "source": [
    "# Create bar chart of orders by day and age group of customer\n",
    "\n",
    "bar_age_day = crosstab_age_day.plot(kind = 'bar', rot = 0, color= ['#8B7765', '#FFD39B', '#AEEEEE', '#668B8B', '#7CCD7C','#BCEE68', '#698B22'])\n",
    "bar_age_day.legend(title='Days', bbox_to_anchor=(1, 1.02), loc='upper left', labels=['Weekday', 'Weekend'])\n",
    "plt.title('Age Category Purchase in days of week', fontsize = 18, pad=20)\n",
    "plt.ylabel('Frequency (in millions)', fontsize = 12)\n",
    "plt.xlabel('Age Category',  fontsize = 12)"
   ]
  },
  {
   "cell_type": "markdown",
   "id": "3b2023ed",
   "metadata": {},
   "source": [
    "# Exporting Charts"
   ]
  },
  {
   "cell_type": "code",
   "execution_count": 162,
   "id": "764ac621",
   "metadata": {},
   "outputs": [],
   "source": [
    "# Exporting purchase period pie chart in .png format\n",
    "\n",
    "purchase_period_pie.figure.savefig(os.path.join(path, '04 Analysis', 'Visualizations', 'purchase_period_pie.png'), bbox_inches='tight')"
   ]
  },
  {
   "cell_type": "code",
   "execution_count": 163,
   "id": "3a0f5556",
   "metadata": {},
   "outputs": [],
   "source": [
    "# Exporting order frequency by age cohort bar chart in .png format\n",
    "\n",
    "bar_age_day.figure.savefig(os.path.join(path, '04 Analysis', 'Visualizations', 'bar_age_day.png'), bbox_inches='tight')"
   ]
  },
  {
   "cell_type": "code",
   "execution_count": 164,
   "id": "3e8e982c",
   "metadata": {},
   "outputs": [],
   "source": [
    "# Exporting shopper_gender distribution pie chart in .png format\n",
    "\n",
    "shopper_gender_pie.figure.savefig(os.path.join(path, '04 Analysis', 'Visualizations', 'shopper_gender_pie.png'), bbox_inches='tight')"
   ]
  },
  {
   "cell_type": "code",
   "execution_count": 165,
   "id": "268686f6",
   "metadata": {},
   "outputs": [],
   "source": [
    "# Exporting foreign_born shoppers distribution pie chart in .png format\n",
    "\n",
    "foreign_born_pie.figure.savefig(os.path.join(path, '04 Analysis', 'Visualizations', 'foreign_born_pie.png'), bbox_inches='tight')"
   ]
  },
  {
   "cell_type": "code",
   "execution_count": 166,
   "id": "8fbda7ad",
   "metadata": {},
   "outputs": [],
   "source": [
    "# Exporting family_strucutre bar chart in .png format\n",
    "\n",
    "family_structure_bar.figure.savefig(os.path.join(path, '04 Analysis', 'Visualizations', 'family_structure_bar.png'), bbox_inches='tight')"
   ]
  },
  {
   "cell_type": "code",
   "execution_count": 167,
   "id": "e7feaf06",
   "metadata": {},
   "outputs": [],
   "source": [
    "# Exporting customers by income bracket bar chart in .png format\n",
    "\n",
    "income_bracket_bar.figure.savefig(os.path.join(path, '04 Analysis', 'Visualizations', 'income_bracket_bar.png'), bbox_inches='tight')"
   ]
  },
  {
   "cell_type": "code",
   "execution_count": 168,
   "id": "82c359ca",
   "metadata": {},
   "outputs": [],
   "source": [
    "# Exporting customer families by presence of babies pie chart in .png format\n",
    "\n",
    "child_status_pie.figure.savefig(os.path.join(path, '04 Analysis', 'Visualizations', 'child_status_pie.png'), bbox_inches='tight')"
   ]
  },
  {
   "cell_type": "code",
   "execution_count": 169,
   "id": "d8d07acb",
   "metadata": {},
   "outputs": [],
   "source": [
    "# Exporting customer families by presence of babies pie chart in .png format\n",
    "\n",
    "child_status_pie.figure.savefig(os.path.join(path, '04 Analysis', 'Visualizations', 'child_status_pie.png'), bbox_inches='tight')"
   ]
  },
  {
   "cell_type": "code",
   "execution_count": 170,
   "id": "e098ae17",
   "metadata": {},
   "outputs": [],
   "source": [
    "# Exporting customer families by presence of pets pie chart in .png format\n",
    "\n",
    "pet_owner_pie.figure.savefig(os.path.join(path, '04 Analysis', 'Visualizations', 'pet_owner_pie.png'), bbox_inches='tight')"
   ]
  },
  {
   "cell_type": "code",
   "execution_count": null,
   "id": "9375d38a",
   "metadata": {},
   "outputs": [],
   "source": []
  }
 ],
 "metadata": {
  "kernelspec": {
   "display_name": "Python 3 (ipykernel)",
   "language": "python",
   "name": "python3"
  },
  "language_info": {
   "codemirror_mode": {
    "name": "ipython",
    "version": 3
   },
   "file_extension": ".py",
   "mimetype": "text/x-python",
   "name": "python",
   "nbconvert_exporter": "python",
   "pygments_lexer": "ipython3",
   "version": "3.9.13"
  }
 },
 "nbformat": 4,
 "nbformat_minor": 5
}
